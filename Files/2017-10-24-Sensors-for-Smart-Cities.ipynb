{
 "cells": [
  {
   "cell_type": "markdown",
   "metadata": {},
   "source": [
    "# **Smart Cities: the use of sensors to tackle the Urban Heat Island effect**"
   ]
  },
  {
   "cell_type": "markdown",
   "metadata": {},
   "source": [
    "#### *A Data Science for Smart Cities project carried out with Jupyter and Python*"
   ]
  },
  {
   "cell_type": "markdown",
   "metadata": {},
   "source": [
    "#### Data source: [Road Weather Information Stations, City of Seattle Open Data Portal.](https://data.seattle.gov/Transportation/Road-Weather-Information-Stations/egc4-d24i)"
   ]
  },
  {
   "cell_type": "code",
   "execution_count": 1,
   "metadata": {
    "collapsed": false
   },
   "outputs": [
    {
     "data": {
      "text/html": [
       "<div>\n",
       "<table border=\"1\" class=\"dataframe\">\n",
       "  <thead>\n",
       "    <tr style=\"text-align: right;\">\n",
       "      <th></th>\n",
       "      <th>StationName</th>\n",
       "      <th>StationLocation</th>\n",
       "      <th>DateTime</th>\n",
       "      <th>RecordId</th>\n",
       "      <th>RoadSurfaceTemperature</th>\n",
       "      <th>AirTemperature</th>\n",
       "    </tr>\n",
       "  </thead>\n",
       "  <tbody>\n",
       "    <tr>\n",
       "      <th>0</th>\n",
       "      <td>35thAveSW_SWMyrtleSt</td>\n",
       "      <td>(47.53918, -122.37658)</td>\n",
       "      <td>2014-03-03 12:42:00</td>\n",
       "      <td>672560</td>\n",
       "      <td>53.88</td>\n",
       "      <td>53.88</td>\n",
       "    </tr>\n",
       "    <tr>\n",
       "      <th>1</th>\n",
       "      <td>35thAveSW_SWMyrtleSt</td>\n",
       "      <td>(47.53918, -122.37658)</td>\n",
       "      <td>2014-03-03 12:43:00</td>\n",
       "      <td>672561</td>\n",
       "      <td>54.05</td>\n",
       "      <td>54.05</td>\n",
       "    </tr>\n",
       "    <tr>\n",
       "      <th>2</th>\n",
       "      <td>35thAveSW_SWMyrtleSt</td>\n",
       "      <td>(47.53918, -122.37658)</td>\n",
       "      <td>2014-03-03 12:44:00</td>\n",
       "      <td>672562</td>\n",
       "      <td>54.21</td>\n",
       "      <td>54.21</td>\n",
       "    </tr>\n",
       "    <tr>\n",
       "      <th>3</th>\n",
       "      <td>35thAveSW_SWMyrtleSt</td>\n",
       "      <td>(47.53918, -122.37658)</td>\n",
       "      <td>2014-03-03 12:45:00</td>\n",
       "      <td>672563</td>\n",
       "      <td>54.38</td>\n",
       "      <td>54.38</td>\n",
       "    </tr>\n",
       "    <tr>\n",
       "      <th>4</th>\n",
       "      <td>35thAveSW_SWMyrtleSt</td>\n",
       "      <td>(47.53918, -122.37658)</td>\n",
       "      <td>2014-03-03 12:46:00</td>\n",
       "      <td>672564</td>\n",
       "      <td>54.54</td>\n",
       "      <td>54.54</td>\n",
       "    </tr>\n",
       "  </tbody>\n",
       "</table>\n",
       "</div>"
      ],
      "text/plain": [
       "            StationName         StationLocation            DateTime  RecordId  \\\n",
       "0  35thAveSW_SWMyrtleSt  (47.53918, -122.37658) 2014-03-03 12:42:00    672560   \n",
       "1  35thAveSW_SWMyrtleSt  (47.53918, -122.37658) 2014-03-03 12:43:00    672561   \n",
       "2  35thAveSW_SWMyrtleSt  (47.53918, -122.37658) 2014-03-03 12:44:00    672562   \n",
       "3  35thAveSW_SWMyrtleSt  (47.53918, -122.37658) 2014-03-03 12:45:00    672563   \n",
       "4  35thAveSW_SWMyrtleSt  (47.53918, -122.37658) 2014-03-03 12:46:00    672564   \n",
       "\n",
       "   RoadSurfaceTemperature  AirTemperature  \n",
       "0                   53.88           53.88  \n",
       "1                   54.05           54.05  \n",
       "2                   54.21           54.21  \n",
       "3                   54.38           54.38  \n",
       "4                   54.54           54.54  "
      ]
     },
     "execution_count": 1,
     "metadata": {},
     "output_type": "execute_result"
    }
   ],
   "source": [
    "#Import libraries\n",
    "import dask.dataframe as dd #High-performance data frame handler\n",
    "import pandas as pd\n",
    "import numpy as np\n",
    " \n",
    "#Locate file and load it as data frame with proper data types\n",
    "filename = 'Road_Weather_Information_Stations.csv'\n",
    "df = dd.read_csv(filename, \n",
    "                 dtype={'StationName': str, 'StationLocation': object, \n",
    "                        'RecordId':int, 'RoadSurfaceTemperature': float, 'AirTemperature': float},\n",
    "                 parse_dates=['DateTime'])\n",
    "\n",
    "#Visualize first 5 rows\n",
    "df.head(5)"
   ]
  },
  {
   "cell_type": "code",
   "execution_count": 2,
   "metadata": {
    "collapsed": false
   },
   "outputs": [
    {
     "data": {
      "text/html": [
       "<div>\n",
       "<table border=\"1\" class=\"dataframe\">\n",
       "  <thead>\n",
       "    <tr style=\"text-align: right;\">\n",
       "      <th></th>\n",
       "      <th>StationName</th>\n",
       "      <th>StationLocation</th>\n",
       "      <th>DateTime</th>\n",
       "      <th>RecordId</th>\n",
       "      <th>RoadSurfaceTemperature</th>\n",
       "      <th>AirTemperature</th>\n",
       "    </tr>\n",
       "  </thead>\n",
       "  <tbody>\n",
       "    <tr>\n",
       "      <th>708887</th>\n",
       "      <td>SpokaneSwingBridge</td>\n",
       "      <td>(47.571389, -122.351743)</td>\n",
       "      <td>2017-10-24 07:06:00</td>\n",
       "      <td>2501737</td>\n",
       "      <td>50.43</td>\n",
       "      <td>56.26</td>\n",
       "    </tr>\n",
       "    <tr>\n",
       "      <th>708888</th>\n",
       "      <td>SpokaneSwingBridge</td>\n",
       "      <td>(47.571389, -122.351743)</td>\n",
       "      <td>2017-10-24 07:07:00</td>\n",
       "      <td>2501738</td>\n",
       "      <td>50.44</td>\n",
       "      <td>56.14</td>\n",
       "    </tr>\n",
       "    <tr>\n",
       "      <th>708889</th>\n",
       "      <td>SpokaneSwingBridge</td>\n",
       "      <td>(47.571389, -122.351743)</td>\n",
       "      <td>2017-10-24 07:08:00</td>\n",
       "      <td>2501739</td>\n",
       "      <td>50.47</td>\n",
       "      <td>56.11</td>\n",
       "    </tr>\n",
       "    <tr>\n",
       "      <th>708890</th>\n",
       "      <td>SpokaneSwingBridge</td>\n",
       "      <td>(47.571389, -122.351743)</td>\n",
       "      <td>2017-10-24 07:09:00</td>\n",
       "      <td>2501740</td>\n",
       "      <td>50.47</td>\n",
       "      <td>56.05</td>\n",
       "    </tr>\n",
       "    <tr>\n",
       "      <th>708891</th>\n",
       "      <td>SpokaneSwingBridge</td>\n",
       "      <td>(47.571389, -122.351743)</td>\n",
       "      <td>2017-10-24 07:10:00</td>\n",
       "      <td>2501741</td>\n",
       "      <td>50.50</td>\n",
       "      <td>56.06</td>\n",
       "    </tr>\n",
       "  </tbody>\n",
       "</table>\n",
       "</div>"
      ],
      "text/plain": [
       "               StationName           StationLocation            DateTime  \\\n",
       "708887  SpokaneSwingBridge  (47.571389, -122.351743) 2017-10-24 07:06:00   \n",
       "708888  SpokaneSwingBridge  (47.571389, -122.351743) 2017-10-24 07:07:00   \n",
       "708889  SpokaneSwingBridge  (47.571389, -122.351743) 2017-10-24 07:08:00   \n",
       "708890  SpokaneSwingBridge  (47.571389, -122.351743) 2017-10-24 07:09:00   \n",
       "708891  SpokaneSwingBridge  (47.571389, -122.351743) 2017-10-24 07:10:00   \n",
       "\n",
       "        RecordId  RoadSurfaceTemperature  AirTemperature  \n",
       "708887   2501737                   50.43           56.26  \n",
       "708888   2501738                   50.44           56.14  \n",
       "708889   2501739                   50.47           56.11  \n",
       "708890   2501740                   50.47           56.05  \n",
       "708891   2501741                   50.50           56.06  "
      ]
     },
     "execution_count": 2,
     "metadata": {},
     "output_type": "execute_result"
    }
   ],
   "source": [
    "#Visualize last 5 of 708,891 rows\n",
    "df.tail(5)"
   ]
  },
  {
   "cell_type": "code",
   "execution_count": 3,
   "metadata": {
    "collapsed": false
   },
   "outputs": [
    {
     "data": {
      "text/plain": [
       "StationName                       object\n",
       "StationLocation                   object\n",
       "DateTime                  datetime64[ns]\n",
       "RecordId                           int32\n",
       "RoadSurfaceTemperature           float64\n",
       "AirTemperature                   float64\n",
       "dtype: object"
      ]
     },
     "execution_count": 3,
     "metadata": {},
     "output_type": "execute_result"
    }
   ],
   "source": [
    "#Visualize data types\n",
    "df._meta.dtypes #object=string"
   ]
  },
  {
   "cell_type": "markdown",
   "metadata": {},
   "source": [
    "### Notice \n",
    "Python offers powerful tools to interact with very large files, such as the dask package, but one significant costraint is the machine on which it operates.\n",
    "Machines with limited resources require long computational time, **slowing down the working pipeline**. For this reason, the City of Seattle Open Data Portal allows to quickly query and slice the dataset online. This approach was followed in order to **preserve the computational resources**, an option that should always be considered whenever possible.\n",
    "\n",
    "The hottest month on average is August, so the online query covers the 01 August 2016 - 31 August 2016 period."
   ]
  },
  {
   "cell_type": "code",
   "execution_count": 22,
   "metadata": {
    "collapsed": false
   },
   "outputs": [],
   "source": [
    "import pandas as pd\n",
    "import datetime as DT\n",
    "\n",
    "#Load the csv file for August 2016\n",
    "filename='August2016_Road_Weather_Information_Stations.csv'\n",
    "august=pd.read_csv(filename, \n",
    "                   dtype={'StationName': str, 'StationLocation': object, \n",
    "                        'RecordId':int, 'RoadSurfaceTemperature': float, 'AirTemperature': float})"
   ]
  },
  {
   "cell_type": "code",
   "execution_count": 8,
   "metadata": {
    "collapsed": false
   },
   "outputs": [
    {
     "data": {
      "text/html": [
       "<div>\n",
       "<table border=\"1\" class=\"dataframe\">\n",
       "  <thead>\n",
       "    <tr style=\"text-align: right;\">\n",
       "      <th></th>\n",
       "      <th>StationName</th>\n",
       "      <th>StationLocation</th>\n",
       "      <th>DateTime</th>\n",
       "      <th>RecordId</th>\n",
       "      <th>RoadSurfaceTemperature</th>\n",
       "      <th>AirTemperature</th>\n",
       "    </tr>\n",
       "  </thead>\n",
       "  <tbody>\n",
       "    <tr>\n",
       "      <th>0</th>\n",
       "      <td>SpokaneSwingBridge</td>\n",
       "      <td>(47.571389, -122.351743)</td>\n",
       "      <td>08/01/2016 12:00:00 AM</td>\n",
       "      <td>1854751</td>\n",
       "      <td>76.06</td>\n",
       "      <td>78.42</td>\n",
       "    </tr>\n",
       "    <tr>\n",
       "      <th>1</th>\n",
       "      <td>RooseveltWay_NE80thSt</td>\n",
       "      <td>(47.692098, -122.31765)</td>\n",
       "      <td>08/01/2016 12:00:00 AM</td>\n",
       "      <td>1941744</td>\n",
       "      <td>72.26</td>\n",
       "      <td>72.26</td>\n",
       "    </tr>\n",
       "    <tr>\n",
       "      <th>2</th>\n",
       "      <td>NE45StViaduct</td>\n",
       "      <td>(47.66127, -122.301929)</td>\n",
       "      <td>08/01/2016 12:00:00 AM</td>\n",
       "      <td>1963257</td>\n",
       "      <td>74.85</td>\n",
       "      <td>63.70</td>\n",
       "    </tr>\n",
       "    <tr>\n",
       "      <th>3</th>\n",
       "      <td>JoseRizalBridgeNorth</td>\n",
       "      <td>(47.59653, -122.317301)</td>\n",
       "      <td>08/01/2016 12:00:00 AM</td>\n",
       "      <td>1802102</td>\n",
       "      <td>74.72</td>\n",
       "      <td>63.46</td>\n",
       "    </tr>\n",
       "    <tr>\n",
       "      <th>4</th>\n",
       "      <td>HarborAveUpperNorthBridge</td>\n",
       "      <td>(47.571695, -122.370873)</td>\n",
       "      <td>08/01/2016 12:00:00 AM</td>\n",
       "      <td>902023</td>\n",
       "      <td>72.39</td>\n",
       "      <td>64.12</td>\n",
       "    </tr>\n",
       "  </tbody>\n",
       "</table>\n",
       "</div>"
      ],
      "text/plain": [
       "                 StationName           StationLocation  \\\n",
       "0         SpokaneSwingBridge  (47.571389, -122.351743)   \n",
       "1      RooseveltWay_NE80thSt   (47.692098, -122.31765)   \n",
       "2              NE45StViaduct   (47.66127, -122.301929)   \n",
       "3       JoseRizalBridgeNorth   (47.59653, -122.317301)   \n",
       "4  HarborAveUpperNorthBridge  (47.571695, -122.370873)   \n",
       "\n",
       "                 DateTime  RecordId  RoadSurfaceTemperature  AirTemperature  \n",
       "0  08/01/2016 12:00:00 AM   1854751                   76.06           78.42  \n",
       "1  08/01/2016 12:00:00 AM   1941744                   72.26           72.26  \n",
       "2  08/01/2016 12:00:00 AM   1963257                   74.85           63.70  \n",
       "3  08/01/2016 12:00:00 AM   1802102                   74.72           63.46  \n",
       "4  08/01/2016 12:00:00 AM    902023                   72.39           64.12  "
      ]
     },
     "execution_count": 8,
     "metadata": {},
     "output_type": "execute_result"
    }
   ],
   "source": [
    "#Visualize first 5 values\n",
    "august.head(5)"
   ]
  },
  {
   "cell_type": "code",
   "execution_count": 23,
   "metadata": {
    "collapsed": false
   },
   "outputs": [
    {
     "data": {
      "text/plain": [
       "StationName                object\n",
       "StationLocation            object\n",
       "DateTime                   object\n",
       "RecordId                    int32\n",
       "RoadSurfaceTemperature    float64\n",
       "AirTemperature            float64\n",
       "dtype: object"
      ]
     },
     "execution_count": 23,
     "metadata": {},
     "output_type": "execute_result"
    }
   ],
   "source": [
    "#Visualize data types\n",
    "august.dtypes #object=string"
   ]
  },
  {
   "cell_type": "code",
   "execution_count": 26,
   "metadata": {
    "collapsed": false
   },
   "outputs": [
    {
     "data": {
      "text/html": [
       "<div>\n",
       "<table border=\"1\" class=\"dataframe\">\n",
       "  <thead>\n",
       "    <tr style=\"text-align: right;\">\n",
       "      <th></th>\n",
       "      <th>StationName</th>\n",
       "      <th>StationLocation</th>\n",
       "      <th>DateTime</th>\n",
       "      <th>RecordId</th>\n",
       "      <th>RoadSurfaceTemperature</th>\n",
       "      <th>AirTemperature</th>\n",
       "      <th>Date</th>\n",
       "      <th>Time</th>\n",
       "    </tr>\n",
       "  </thead>\n",
       "  <tbody>\n",
       "    <tr>\n",
       "      <th>0</th>\n",
       "      <td>SpokaneSwingBridge</td>\n",
       "      <td>(47.571389, -122.351743)</td>\n",
       "      <td>2016-08-01</td>\n",
       "      <td>1854751</td>\n",
       "      <td>76.06</td>\n",
       "      <td>78.42</td>\n",
       "      <td>2016-08-01</td>\n",
       "      <td>00:00:00</td>\n",
       "    </tr>\n",
       "    <tr>\n",
       "      <th>1</th>\n",
       "      <td>RooseveltWay_NE80thSt</td>\n",
       "      <td>(47.692098, -122.31765)</td>\n",
       "      <td>2016-08-01</td>\n",
       "      <td>1941744</td>\n",
       "      <td>72.26</td>\n",
       "      <td>72.26</td>\n",
       "      <td>2016-08-01</td>\n",
       "      <td>00:00:00</td>\n",
       "    </tr>\n",
       "    <tr>\n",
       "      <th>2</th>\n",
       "      <td>NE45StViaduct</td>\n",
       "      <td>(47.66127, -122.301929)</td>\n",
       "      <td>2016-08-01</td>\n",
       "      <td>1963257</td>\n",
       "      <td>74.85</td>\n",
       "      <td>63.70</td>\n",
       "      <td>2016-08-01</td>\n",
       "      <td>00:00:00</td>\n",
       "    </tr>\n",
       "    <tr>\n",
       "      <th>3</th>\n",
       "      <td>JoseRizalBridgeNorth</td>\n",
       "      <td>(47.59653, -122.317301)</td>\n",
       "      <td>2016-08-01</td>\n",
       "      <td>1802102</td>\n",
       "      <td>74.72</td>\n",
       "      <td>63.46</td>\n",
       "      <td>2016-08-01</td>\n",
       "      <td>00:00:00</td>\n",
       "    </tr>\n",
       "    <tr>\n",
       "      <th>4</th>\n",
       "      <td>HarborAveUpperNorthBridge</td>\n",
       "      <td>(47.571695, -122.370873)</td>\n",
       "      <td>2016-08-01</td>\n",
       "      <td>902023</td>\n",
       "      <td>72.39</td>\n",
       "      <td>64.12</td>\n",
       "      <td>2016-08-01</td>\n",
       "      <td>00:00:00</td>\n",
       "    </tr>\n",
       "  </tbody>\n",
       "</table>\n",
       "</div>"
      ],
      "text/plain": [
       "                 StationName           StationLocation   DateTime  RecordId  \\\n",
       "0         SpokaneSwingBridge  (47.571389, -122.351743) 2016-08-01   1854751   \n",
       "1      RooseveltWay_NE80thSt   (47.692098, -122.31765) 2016-08-01   1941744   \n",
       "2              NE45StViaduct   (47.66127, -122.301929) 2016-08-01   1963257   \n",
       "3       JoseRizalBridgeNorth   (47.59653, -122.317301) 2016-08-01   1802102   \n",
       "4  HarborAveUpperNorthBridge  (47.571695, -122.370873) 2016-08-01    902023   \n",
       "\n",
       "   RoadSurfaceTemperature  AirTemperature        Date      Time  \n",
       "0                   76.06           78.42  2016-08-01  00:00:00  \n",
       "1                   72.26           72.26  2016-08-01  00:00:00  \n",
       "2                   74.85           63.70  2016-08-01  00:00:00  \n",
       "3                   74.72           63.46  2016-08-01  00:00:00  \n",
       "4                   72.39           64.12  2016-08-01  00:00:00  "
      ]
     },
     "execution_count": 26,
     "metadata": {},
     "output_type": "execute_result"
    }
   ],
   "source": [
    "#Separate date from time\n",
    "august['Date'] = [d.date() for d in august['DateTime']]\n",
    "august['Time'] = [d.time() for d in august['DateTime']]\n",
    "\n",
    "#Visualize\n",
    "august.head(5)"
   ]
  },
  {
   "cell_type": "code",
   "execution_count": 49,
   "metadata": {
    "collapsed": false
   },
   "outputs": [],
   "source": [
    "#Drop DateTime Air and Temperature column\n",
    "august=august.drop('DateTime', axis=1)\n",
    "august=august.drop('AirTemperature', axis=1)\n",
    "\n",
    "#Sort the dataframe\n",
    "august.sort_values(by=['StationName'], inplace=True)\n",
    "\n",
    "#Set the index to be this and don't drop\n",
    "august.set_index(keys=['StationName'], drop=False,inplace=True)\n",
    "\n",
    "#Get a list of stations\n",
    "stations=august['StationName'].unique().tolist()\n",
    "\n",
    "#Create split dataframes\n",
    "alaskan = august.loc[august.StationName=='AlaskanWayViaduct_KingSt']\n",
    "albro = august.loc[august.StationName=='AlbroPlaceAirportWay']\n",
    "aurora = august.loc[august.StationName=='AuroraBridge']\n",
    "harbor = august.loc[august.StationName=='HarborAveUpperNorthBridge']\n",
    "joseriza = august.loc[august.StationName=='JoseRizalBridgeNorth']\n",
    "magnolia = august.loc[august.StationName=='MagnoliaBridge']\n",
    "myrtle = august.loc[august.StationName=='35thAveSW_SWMyrtleSt']\n",
    "ne45 = august.loc[august.StationName=='NE45StViaduct']\n",
    "roosevelt = august.loc[august.StationName=='RooseveltWay_NE80thSt']\n",
    "spokane = august.loc[august.StationName=='SpokaneSwingBridge']\n",
    "\n",
    "#Create list with data frame names for reference\n",
    "station_list=[alaskan,albro,aurora,harbor,joseriza,magnolia,myrtle,ne45,roosevelt,spokane]"
   ]
  },
  {
   "cell_type": "code",
   "execution_count": 94,
   "metadata": {
    "collapsed": false
   },
   "outputs": [
    {
     "data": {
      "image/png": "[encoded data removed]",
      "text/plain": [
       "<matplotlib.figure.Figure at 0xdff78d0>"
      ]
     },
     "metadata": {},
     "output_type": "display_data"
    }
   ],
   "source": [
    "#Compute average temperature for each time interval and station (e.g., time series) for August 2016\n",
    "#and plot the series\n",
    "\n",
    "import matplotlib.pyplot as plt\n",
    "\n",
    "#Create empty image\n",
    "fig = plt.figure(figsize=(15,18))\n",
    "plt.subplots_adjust(hspace=0.3)\n",
    "\n",
    "#Empty lists to store peak times, station names, and max road surface temperatures\n",
    "peak=[]\n",
    "names=[]\n",
    "\n",
    "#Loop through the station list\n",
    "for i, station in enumerate(station_list):\n",
    "    \n",
    "    mean_t=station.groupby('Time').RoadSurfaceTemperature.mean()\n",
    "    \n",
    "    #Convert Fahrenheit degrees into Celsius degrees\n",
    "    mean_t=mean_t.apply(lambda x: ((x - 32) * 5/9))\n",
    "    \n",
    "    #Save station names, peak times, and temperatures\n",
    "    peak.append(mean_t.idxmax().strftime(\"%H:%M:%S\"))\n",
    "    names.append(str(station.StationName[1]))\n",
    "    \n",
    "    #Add plot\n",
    "    ax = fig.add_subplot(5, 2, i+1)\n",
    "    plt.scatter(mean_t.index, mean_t)\n",
    "    plt.title(str(station.StationName[1]))\n",
    "    plt.xlabel(\"Time\")\n",
    "    plt.ylabel(\"degrees Celsius\")\n",
    "    plt.ylim(15,40)\n",
    "\n",
    "plt.show()  "
   ]
  },
  {
   "cell_type": "code",
   "execution_count": 99,
   "metadata": {
    "collapsed": false,
    "scrolled": true
   },
   "outputs": [
    {
     "data": {
      "text/html": [
       "<div>\n",
       "<table border=\"1\" class=\"dataframe\">\n",
       "  <thead>\n",
       "    <tr style=\"text-align: right;\">\n",
       "      <th></th>\n",
       "      <th>Station Name</th>\n",
       "      <th>Peak Time</th>\n",
       "    </tr>\n",
       "  </thead>\n",
       "  <tbody>\n",
       "    <tr>\n",
       "      <th>0</th>\n",
       "      <td>AlaskanWayViaduct_KingSt</td>\n",
       "      <td>15:55:00</td>\n",
       "    </tr>\n",
       "    <tr>\n",
       "      <th>1</th>\n",
       "      <td>AlbroPlaceAirportWay</td>\n",
       "      <td>15:55:00</td>\n",
       "    </tr>\n",
       "    <tr>\n",
       "      <th>2</th>\n",
       "      <td>AuroraBridge</td>\n",
       "      <td>15:21:00</td>\n",
       "    </tr>\n",
       "    <tr>\n",
       "      <th>3</th>\n",
       "      <td>HarborAveUpperNorthBridge</td>\n",
       "      <td>16:08:00</td>\n",
       "    </tr>\n",
       "    <tr>\n",
       "      <th>4</th>\n",
       "      <td>JoseRizalBridgeNorth</td>\n",
       "      <td>16:10:00</td>\n",
       "    </tr>\n",
       "    <tr>\n",
       "      <th>5</th>\n",
       "      <td>MagnoliaBridge</td>\n",
       "      <td>15:51:00</td>\n",
       "    </tr>\n",
       "    <tr>\n",
       "      <th>6</th>\n",
       "      <td>35thAveSW_SWMyrtleSt</td>\n",
       "      <td>17:35:00</td>\n",
       "    </tr>\n",
       "    <tr>\n",
       "      <th>7</th>\n",
       "      <td>NE45StViaduct</td>\n",
       "      <td>15:54:00</td>\n",
       "    </tr>\n",
       "    <tr>\n",
       "      <th>8</th>\n",
       "      <td>RooseveltWay_NE80thSt</td>\n",
       "      <td>14:05:00</td>\n",
       "    </tr>\n",
       "    <tr>\n",
       "      <th>9</th>\n",
       "      <td>SpokaneSwingBridge</td>\n",
       "      <td>16:10:00</td>\n",
       "    </tr>\n",
       "  </tbody>\n",
       "</table>\n",
       "</div>"
      ],
      "text/plain": [
       "                Station Name Peak Time\n",
       "0   AlaskanWayViaduct_KingSt  15:55:00\n",
       "1       AlbroPlaceAirportWay  15:55:00\n",
       "2               AuroraBridge  15:21:00\n",
       "3  HarborAveUpperNorthBridge  16:08:00\n",
       "4       JoseRizalBridgeNorth  16:10:00\n",
       "5             MagnoliaBridge  15:51:00\n",
       "6       35thAveSW_SWMyrtleSt  17:35:00\n",
       "7              NE45StViaduct  15:54:00\n",
       "8      RooseveltWay_NE80thSt  14:05:00\n",
       "9         SpokaneSwingBridge  16:10:00"
      ]
     },
     "execution_count": 99,
     "metadata": {},
     "output_type": "execute_result"
    }
   ],
   "source": [
    "#Show peak times\n",
    "peak_df=pd.DataFrame({'Station Name' : names, 'Peak Time': peak})\n",
    "peak_df=peak_df[['Station Name','Peak Time']]\n",
    "peak_df"
   ]
  },
  {
   "cell_type": "code",
   "execution_count": 171,
   "metadata": {
    "collapsed": false
   },
   "outputs": [
    {
     "data": {
      "text/html": [
       "<div>\n",
       "<table border=\"1\" class=\"dataframe\">\n",
       "  <thead>\n",
       "    <tr style=\"text-align: right;\">\n",
       "      <th></th>\n",
       "      <th>Station Name</th>\n",
       "      <th>Max Temperature</th>\n",
       "    </tr>\n",
       "  </thead>\n",
       "  <tbody>\n",
       "    <tr>\n",
       "      <th>0</th>\n",
       "      <td>HarborAveUpperNorthBridge</td>\n",
       "      <td>35.322</td>\n",
       "    </tr>\n",
       "    <tr>\n",
       "      <th>1</th>\n",
       "      <td>AuroraBridge</td>\n",
       "      <td>29.165</td>\n",
       "    </tr>\n",
       "    <tr>\n",
       "      <th>2</th>\n",
       "      <td>NE45StViaduct</td>\n",
       "      <td>35.186</td>\n",
       "    </tr>\n",
       "    <tr>\n",
       "      <th>3</th>\n",
       "      <td>35thAveSW_SWMyrtleSt</td>\n",
       "      <td>25.340</td>\n",
       "    </tr>\n",
       "    <tr>\n",
       "      <th>4</th>\n",
       "      <td>SpokaneSwingBridge</td>\n",
       "      <td>36.147</td>\n",
       "    </tr>\n",
       "    <tr>\n",
       "      <th>5</th>\n",
       "      <td>RooseveltWay_NE80thSt</td>\n",
       "      <td>31.708</td>\n",
       "    </tr>\n",
       "    <tr>\n",
       "      <th>6</th>\n",
       "      <td>AlbroPlaceAirportWay</td>\n",
       "      <td>38.352</td>\n",
       "    </tr>\n",
       "    <tr>\n",
       "      <th>7</th>\n",
       "      <td>AlaskanWayViaduct_KingSt</td>\n",
       "      <td>33.939</td>\n",
       "    </tr>\n",
       "    <tr>\n",
       "      <th>8</th>\n",
       "      <td>MagnoliaBridge</td>\n",
       "      <td>35.767</td>\n",
       "    </tr>\n",
       "    <tr>\n",
       "      <th>9</th>\n",
       "      <td>JoseRizalBridgeNorth</td>\n",
       "      <td>36.774</td>\n",
       "    </tr>\n",
       "  </tbody>\n",
       "</table>\n",
       "</div>"
      ],
      "text/plain": [
       "                Station Name  Max Temperature\n",
       "0  HarborAveUpperNorthBridge           35.322\n",
       "1               AuroraBridge           29.165\n",
       "2              NE45StViaduct           35.186\n",
       "3       35thAveSW_SWMyrtleSt           25.340\n",
       "4         SpokaneSwingBridge           36.147\n",
       "5      RooseveltWay_NE80thSt           31.708\n",
       "6       AlbroPlaceAirportWay           38.352\n",
       "7   AlaskanWayViaduct_KingSt           33.939\n",
       "8             MagnoliaBridge           35.767\n",
       "9       JoseRizalBridgeNorth           36.774"
      ]
     },
     "execution_count": 171,
     "metadata": {},
     "output_type": "execute_result"
    }
   ],
   "source": [
    "#Extract average road surface temperatures for the 3:50PM-4:10PM interval\n",
    "\n",
    "#Empty dictionary to store station names and average peak road surface temperatures\n",
    "peak_temp={}\n",
    "\n",
    "#Loop through the station list\n",
    "for i, station in enumerate(station_list):\n",
    "    \n",
    "    mean_t=station.groupby('Time').RoadSurfaceTemperature.mean()\n",
    "    mean_t=mean_t.apply(lambda x: ((x - 32) * 5/9))\n",
    "        \n",
    "    #Save the average temperature between 3:50PM and 4:10PM\n",
    "    peak_temp[str(station.StationName[1])]=round(mean_t[950:971].mean(),3)\n",
    "\n",
    "#Visualize data frame\n",
    "max_t=pd.DataFrame({'Station Name':peak_temp.keys(), 'Max Temperature': peak_temp.values()})\n",
    "max_t=max_t[['Station Name', 'Max Temperature']]\n",
    "max_t"
   ]
  },
  {
   "cell_type": "markdown",
   "metadata": {},
   "source": [
    "### Interactive plotting"
   ]
  },
  {
   "cell_type": "code",
   "execution_count": 204,
   "metadata": {
    "collapsed": false
   },
   "outputs": [
    {
     "data": {
      "text/html": [
       "<div>\n",
       "<table border=\"1\" class=\"dataframe\">\n",
       "  <thead>\n",
       "    <tr style=\"text-align: right;\">\n",
       "      <th></th>\n",
       "      <th>OBJECTID</th>\n",
       "      <th>Station Name</th>\n",
       "      <th>Lat</th>\n",
       "      <th>Lon</th>\n",
       "      <th>Max Temperature</th>\n",
       "    </tr>\n",
       "  </thead>\n",
       "  <tbody>\n",
       "    <tr>\n",
       "      <th>0</th>\n",
       "      <td>1</td>\n",
       "      <td>35thAveSW_SWMyrtleSt</td>\n",
       "      <td>47.53918</td>\n",
       "      <td>-122.36758</td>\n",
       "      <td>25.340</td>\n",
       "    </tr>\n",
       "    <tr>\n",
       "      <th>1</th>\n",
       "      <td>2</td>\n",
       "      <td>AlaskanWayViaduct_KingSt</td>\n",
       "      <td>47.59844</td>\n",
       "      <td>-122.33561</td>\n",
       "      <td>33.939</td>\n",
       "    </tr>\n",
       "    <tr>\n",
       "      <th>2</th>\n",
       "      <td>3</td>\n",
       "      <td>AlbroPlaceAirportWay</td>\n",
       "      <td>47.54743</td>\n",
       "      <td>-122.31411</td>\n",
       "      <td>38.352</td>\n",
       "    </tr>\n",
       "    <tr>\n",
       "      <th>3</th>\n",
       "      <td>4</td>\n",
       "      <td>AuroraBridge</td>\n",
       "      <td>47.64317</td>\n",
       "      <td>-122.34728</td>\n",
       "      <td>29.165</td>\n",
       "    </tr>\n",
       "    <tr>\n",
       "      <th>4</th>\n",
       "      <td>5</td>\n",
       "      <td>HarborAveUpperNorthBridge</td>\n",
       "      <td>47.57169</td>\n",
       "      <td>-122.37087</td>\n",
       "      <td>35.322</td>\n",
       "    </tr>\n",
       "    <tr>\n",
       "      <th>5</th>\n",
       "      <td>6</td>\n",
       "      <td>JoseRizalBridgeNorth</td>\n",
       "      <td>47.59653</td>\n",
       "      <td>-122.31730</td>\n",
       "      <td>36.774</td>\n",
       "    </tr>\n",
       "    <tr>\n",
       "      <th>6</th>\n",
       "      <td>7</td>\n",
       "      <td>MagnoliaBridge</td>\n",
       "      <td>47.63345</td>\n",
       "      <td>-122.38734</td>\n",
       "      <td>35.767</td>\n",
       "    </tr>\n",
       "    <tr>\n",
       "      <th>7</th>\n",
       "      <td>8</td>\n",
       "      <td>NE45StViaduct</td>\n",
       "      <td>47.66127</td>\n",
       "      <td>-122.30193</td>\n",
       "      <td>35.186</td>\n",
       "    </tr>\n",
       "    <tr>\n",
       "      <th>8</th>\n",
       "      <td>9</td>\n",
       "      <td>RooseveltWay_NE80thSt</td>\n",
       "      <td>47.69209</td>\n",
       "      <td>-122.31765</td>\n",
       "      <td>31.708</td>\n",
       "    </tr>\n",
       "    <tr>\n",
       "      <th>9</th>\n",
       "      <td>10</td>\n",
       "      <td>SpokaneSwingBridge</td>\n",
       "      <td>47.57139</td>\n",
       "      <td>-122.35174</td>\n",
       "      <td>36.147</td>\n",
       "    </tr>\n",
       "  </tbody>\n",
       "</table>\n",
       "</div>"
      ],
      "text/plain": [
       "   OBJECTID               Station Name       Lat        Lon  Max Temperature\n",
       "0         1       35thAveSW_SWMyrtleSt  47.53918 -122.36758           25.340\n",
       "1         2   AlaskanWayViaduct_KingSt  47.59844 -122.33561           33.939\n",
       "2         3       AlbroPlaceAirportWay  47.54743 -122.31411           38.352\n",
       "3         4               AuroraBridge  47.64317 -122.34728           29.165\n",
       "4         5  HarborAveUpperNorthBridge  47.57169 -122.37087           35.322\n",
       "5         6       JoseRizalBridgeNorth  47.59653 -122.31730           36.774\n",
       "6         7             MagnoliaBridge  47.63345 -122.38734           35.767\n",
       "7         8              NE45StViaduct  47.66127 -122.30193           35.186\n",
       "8         9      RooseveltWay_NE80thSt  47.69209 -122.31765           31.708\n",
       "9        10         SpokaneSwingBridge  47.57139 -122.35174           36.147"
      ]
     },
     "execution_count": 204,
     "metadata": {},
     "output_type": "execute_result"
    }
   ],
   "source": [
    "#Sensor locations\n",
    "sensors=pd.read_csv('sensors.csv')\n",
    "\n",
    "#Add temperature column\n",
    "complete=pd.merge(sensors, max_t, on='Station Name', how='outer')\n",
    "complete"
   ]
  },
  {
   "cell_type": "code",
   "execution_count": 281,
   "metadata": {
    "collapsed": false
   },
   "outputs": [
    {
     "data": {
      "text/html": [
       "<div style=\"width:100%;\"><div style=\"position:relative;width:100%;height:0;padding-bottom:60%;\"><iframe src=\"data:text/html;charset=utf-8;base64,PCFET0NUWVBFIGh0bWw+CjxoZWFkPiAgICAKICAgIDxtZXRhIGh0dHAtZXF1aXY9ImNvbnRlbnQtdHlwZSIgY29udGVudD0idGV4dC9odG1sOyBjaGFyc2V0PVVURi04IiAvPgogICAgPHNjcmlwdD5MX1BSRUZFUl9DQU5WQVMgPSBmYWxzZTsgTF9OT19UT1VDSCA9IGZhbHNlOyBMX0RJU0FCTEVfM0QgPSBmYWxzZTs8L3NjcmlwdD4KICAgIDxzY3JpcHQgc3JjPSJodHRwczovL3VucGtnLmNvbS9sZWFmbGV0QDEuMC4xL2Rpc3QvbGVhZmxldC5qcyI+PC9zY3JpcHQ+CiAgICA8c2NyaXB0IHNyYz0iaHR0cHM6Ly9hamF4Lmdvb2dsZWFwaXMuY29tL2FqYXgvbGlicy9qcXVlcnkvMS4xMS4xL2pxdWVyeS5taW4uanMiPjwvc2NyaXB0PgogICAgPHNjcmlwdCBzcmM9Imh0dHBzOi8vbWF4Y2RuLmJvb3RzdHJhcGNkbi5jb20vYm9vdHN0cmFwLzMuMi4wL2pzL2Jvb3RzdHJhcC5taW4uanMiPjwvc2NyaXB0PgogICAgPHNjcmlwdCBzcmM9Imh0dHBzOi8vY2RuanMuY2xvdWRmbGFyZS5jb20vYWpheC9saWJzL0xlYWZsZXQuYXdlc29tZS1tYXJrZXJzLzIuMC4yL2xlYWZsZXQuYXdlc29tZS1tYXJrZXJzLmpzIj48L3NjcmlwdD4KICAgIDxzY3JpcHQgc3JjPSJodHRwczovL2NkbmpzLmNsb3VkZmxhcmUuY29tL2FqYXgvbGlicy9sZWFmbGV0Lm1hcmtlcmNsdXN0ZXIvMS4wLjAvbGVhZmxldC5tYXJrZXJjbHVzdGVyLXNyYy5qcyI+PC9zY3JpcHQ+CiAgICA8c2NyaXB0IHNyYz0iaHR0cHM6Ly9jZG5qcy5jbG91ZGZsYXJlLmNvbS9hamF4L2xpYnMvbGVhZmxldC5tYXJrZXJjbHVzdGVyLzEuMC4wL2xlYWZsZXQubWFya2VyY2x1c3Rlci5qcyI+PC9zY3JpcHQ+CiAgICA8bGluayByZWw9InN0eWxlc2hlZXQiIGhyZWY9Imh0dHBzOi8vdW5wa2cuY29tL2xlYWZsZXRAMS4wLjEvZGlzdC9sZWFmbGV0LmNzcyIgLz4KICAgIDxsaW5rIHJlbD0ic3R5bGVzaGVldCIgaHJlZj0iaHR0cHM6Ly9tYXhjZG4uYm9vdHN0cmFwY2RuLmNvbS9ib290c3RyYXAvMy4yLjAvY3NzL2Jvb3RzdHJhcC5taW4uY3NzIiAvPgogICAgPGxpbmsgcmVsPSJzdHlsZXNoZWV0IiBocmVmPSJodHRwczovL21heGNkbi5ib290c3RyYXBjZG4uY29tL2Jvb3RzdHJhcC8zLjIuMC9jc3MvYm9vdHN0cmFwLXRoZW1lLm1pbi5jc3MiIC8+CiAgICA8bGluayByZWw9InN0eWxlc2hlZXQiIGhyZWY9Imh0dHBzOi8vbWF4Y2RuLmJvb3RzdHJhcGNkbi5jb20vZm9udC1hd2Vzb21lLzQuNi4zL2Nzcy9mb250LWF3ZXNvbWUubWluLmNzcyIgLz4KICAgIDxsaW5rIHJlbD0ic3R5bGVzaGVldCIgaHJlZj0iaHR0cHM6Ly9jZG5qcy5jbG91ZGZsYXJlLmNvbS9hamF4L2xpYnMvTGVhZmxldC5hd2Vzb21lLW1hcmtlcnMvMi4wLjIvbGVhZmxldC5hd2Vzb21lLW1hcmtlcnMuY3NzIiAvPgogICAgPGxpbmsgcmVsPSJzdHlsZXNoZWV0IiBocmVmPSJodHRwczovL2NkbmpzLmNsb3VkZmxhcmUuY29tL2FqYXgvbGlicy9sZWFmbGV0Lm1hcmtlcmNsdXN0ZXIvMS4wLjAvTWFya2VyQ2x1c3Rlci5EZWZhdWx0LmNzcyIgLz4KICAgIDxsaW5rIHJlbD0ic3R5bGVzaGVldCIgaHJlZj0iaHR0cHM6Ly9jZG5qcy5jbG91ZGZsYXJlLmNvbS9hamF4L2xpYnMvbGVhZmxldC5tYXJrZXJjbHVzdGVyLzEuMC4wL01hcmtlckNsdXN0ZXIuY3NzIiAvPgogICAgPGxpbmsgcmVsPSJzdHlsZXNoZWV0IiBocmVmPSJodHRwczovL3Jhd2dpdC5jb20vcHl0aG9uLXZpc3VhbGl6YXRpb24vZm9saXVtL21hc3Rlci9mb2xpdW0vdGVtcGxhdGVzL2xlYWZsZXQuYXdlc29tZS5yb3RhdGUuY3NzIiAvPgogICAgPHN0eWxlPmh0bWwsIGJvZHkge3dpZHRoOiAxMDAlO2hlaWdodDogMTAwJTttYXJnaW46IDA7cGFkZGluZzogMDt9PC9zdHlsZT4KICAgIDxzdHlsZT4jbWFwIHtwb3NpdGlvbjphYnNvbHV0ZTt0b3A6MDtib3R0b206MDtyaWdodDowO2xlZnQ6MDt9PC9zdHlsZT4KICAgIAogICAgICAgICAgICA8c3R5bGU+ICNtYXBfM2EzZjNhNmFiMTU0NDQyYzgzYTI0ZDZlNjExNzVlZDEgewogICAgICAgICAgICAgICAgcG9zaXRpb24gOiByZWxhdGl2ZTsKICAgICAgICAgICAgICAgIHdpZHRoIDogMTAwLjAlOwogICAgICAgICAgICAgICAgaGVpZ2h0OiAxMDAuMCU7CiAgICAgICAgICAgICAgICBsZWZ0OiAwLjAlOwogICAgICAgICAgICAgICAgdG9wOiAwLjAlOwogICAgICAgICAgICAgICAgfQogICAgICAgICAgICA8L3N0eWxlPgogICAgICAgIAogICAgPHNjcmlwdCBzcmM9Imh0dHBzOi8vY2RuanMuY2xvdWRmbGFyZS5jb20vYWpheC9saWJzL2QzLzMuNS41L2QzLm1pbi5qcyI+PC9zY3JpcHQ+CjwvaGVhZD4KPGJvZHk+ICAgIAogICAgCiAgICAgICAgICAgIDxkaXYgY2xhc3M9ImZvbGl1bS1tYXAiIGlkPSJtYXBfM2EzZjNhNmFiMTU0NDQyYzgzYTI0ZDZlNjExNzVlZDEiID48L2Rpdj4KICAgICAgICAKPC9ib2R5Pgo8c2NyaXB0PiAgICAKICAgIAoKICAgICAgICAgICAgCiAgICAgICAgICAgICAgICB2YXIgc291dGhXZXN0ID0gTC5sYXRMbmcoLTkwLCAtMTgwKTsKICAgICAgICAgICAgICAgIHZhciBub3J0aEVhc3QgPSBMLmxhdExuZyg5MCwgMTgwKTsKICAgICAgICAgICAgICAgIHZhciBib3VuZHMgPSBMLmxhdExuZ0JvdW5kcyhzb3V0aFdlc3QsIG5vcnRoRWFzdCk7CiAgICAgICAgICAgIAoKICAgICAgICAgICAgdmFyIG1hcF8zYTNmM2E2YWIxNTQ0NDJjODNhMjRkNmU2MTE3NWVkMSA9IEwubWFwKAogICAgICAgICAgICAgICAgICAgICAgICAgICAgICAgICAgJ21hcF8zYTNmM2E2YWIxNTQ0NDJjODNhMjRkNmU2MTE3NWVkMScsCiAgICAgICAgICAgICAgICAgICAgICAgICAgICAgICAgICB7Y2VudGVyOiBbNDcuNTk4NDQsLTEyMi4zMzU2MV0sCiAgICAgICAgICAgICAgICAgICAgICAgICAgICAgICAgICB6b29tOiAxMS40OCwKICAgICAgICAgICAgICAgICAgICAgICAgICAgICAgICAgIG1heEJvdW5kczogYm91bmRzLAogICAgICAgICAgICAgICAgICAgICAgICAgICAgICAgICAgbGF5ZXJzOiBbXSwKICAgICAgICAgICAgICAgICAgICAgICAgICAgICAgICAgIHdvcmxkQ29weUp1bXA6IGZhbHNlLAogICAgICAgICAgICAgICAgICAgICAgICAgICAgICAgICAgY3JzOiBMLkNSUy5FUFNHMzg1NwogICAgICAgICAgICAgICAgICAgICAgICAgICAgICAgICB9KTsKICAgICAgICAgICAgCiAgICAgICAgCiAgICAKICAgICAgICAgICAgdmFyIHRpbGVfbGF5ZXJfNTc3ZGM1YTk5MDljNDZmODk3YThiNjBiODAxOTIzYjkgPSBMLnRpbGVMYXllcigKICAgICAgICAgICAgICAgICdodHRwczovL3N0YW1lbi10aWxlcy17c30uYS5zc2wuZmFzdGx5Lm5ldC90ZXJyYWluL3t6fS97eH0ve3l9LmpwZycsCiAgICAgICAgICAgICAgICB7CiAgICAgICAgICAgICAgICAgICAgbWF4Wm9vbTogMTgsCiAgICAgICAgICAgICAgICAgICAgbWluWm9vbTogMSwKICAgICAgICAgICAgICAgICAgICBjb250aW51b3VzV29ybGQ6IGZhbHNlLAogICAgICAgICAgICAgICAgICAgIG5vV3JhcDogZmFsc2UsCiAgICAgICAgICAgICAgICAgICAgYXR0cmlidXRpb246ICdNYXAgdGlsZXMgYnkgPGEgaHJlZj0iaHR0cDovL3N0YW1lbi5jb20iPlN0YW1lbiBEZXNpZ248L2E+LCB1bmRlciA8YSBocmVmPSJodHRwOi8vY3JlYXRpdmVjb21tb25zLm9yZy9saWNlbnNlcy9ieS8zLjAiPkNDIEJZIDMuMDwvYT4uIERhdGEgYnkgPGEgaHJlZj0iaHR0cDovL29wZW5zdHJlZXRtYXAub3JnIj5PcGVuU3RyZWV0TWFwPC9hPiwgdW5kZXIgPGEgaHJlZj0iaHR0cDovL2NyZWF0aXZlY29tbW9ucy5vcmcvbGljZW5zZXMvYnktc2EvMy4wIj5DQyBCWSBTQTwvYT4uJywKICAgICAgICAgICAgICAgICAgICBkZXRlY3RSZXRpbmE6IGZhbHNlCiAgICAgICAgICAgICAgICAgICAgfQogICAgICAgICAgICAgICAgKS5hZGRUbyhtYXBfM2EzZjNhNmFiMTU0NDQyYzgzYTI0ZDZlNjExNzVlZDEpOwoKICAgICAgICAKICAgIAogICAgdmFyIGNvbG9yX21hcF9iODc1NzRmMGVlOWQ0M2ZkYThhM2ZhZTM5ODU5MTE1MCA9IHt9OwoKICAgIAogICAgY29sb3JfbWFwX2I4NzU3NGYwZWU5ZDQzZmRhOGEzZmFlMzk4NTkxMTUwLmNvbG9yID0gZDMuc2NhbGUudGhyZXNob2xkKCkKICAgICAgICAgICAgICAuZG9tYWluKFsyNS4wLCAyNS4wMzIwNjQxMjgyNTY1MSwgMjUuMDY0MTI4MjU2NTEzMDI2LCAyNS4wOTYxOTIzODQ3Njk1MzcsIDI1LjEyODI1NjUxMzAyNjA1MiwgMjUuMTYwMzIwNjQxMjgyNTY0LCAyNS4xOTIzODQ3Njk1MzkwOCwgMjUuMjI0NDQ4ODk3Nzk1NTksIDI1LjI1NjUxMzAyNjA1MjEwNCwgMjUuMjg4NTc3MTU0MzA4NjE2LCAyNS4zMjA2NDEyODI1NjUxMywgMjUuMzUyNzA1NDEwODIxNjQyLCAyNS4zODQ3Njk1MzkwNzgxNTcsIDI1LjQxNjgzMzY2NzMzNDY2OCwgMjUuNDQ4ODk3Nzk1NTkxMTgzLCAyNS40ODA5NjE5MjM4NDc2OTQsIDI1LjUxMzAyNjA1MjEwNDIxLCAyNS41NDUwOTAxODAzNjA3MiwgMjUuNTc3MTU0MzA4NjE3MjM1LCAyNS42MDkyMTg0MzY4NzM3NDYsIDI1LjY0MTI4MjU2NTEzMDI2LCAyNS42NzMzNDY2OTMzODY3NzIsIDI1LjcwNTQxMDgyMTY0MzI4NywgMjUuNzM3NDc0OTQ5ODk5OCwgMjUuNzY5NTM5MDc4MTU2MzEzLCAyNS44MDE2MDMyMDY0MTI4MjUsIDI1LjgzMzY2NzMzNDY2OTM0LCAyNS44NjU3MzE0NjI5MjU4NSwgMjUuODk3Nzk1NTkxMTgyMzY2LCAyNS45Mjk4NTk3MTk0Mzg4NzcsIDI1Ljk2MTkyMzg0NzY5NTM5LCAyNS45OTM5ODc5NzU5NTE5MDMsIDI2LjAyNjA1MjEwNDIwODQxOCwgMjYuMDU4MTE2MjMyNDY0OTMsIDI2LjA5MDE4MDM2MDcyMTQ0NCwgMjYuMTIyMjQ0NDg4OTc3OTU1LCAyNi4xNTQzMDg2MTcyMzQ0NywgMjYuMTg2MzcyNzQ1NDkwOTgsIDI2LjIxODQzNjg3Mzc0NzQ5NiwgMjYuMjUwNTAxMDAyMDA0MDA3LCAyNi4yODI1NjUxMzAyNjA1MjIsIDI2LjMxNDYyOTI1ODUxNzAzNCwgMjYuMzQ2NjkzMzg2NzczNTUsIDI2LjM3ODc1NzUxNTAzMDA2LCAyNi40MTA4MjE2NDMyODY1NzUsIDI2LjQ0Mjg4NTc3MTU0MzA4NiwgMjYuNDc0OTQ5ODk5Nzk5NiwgMjYuNTA3MDE0MDI4MDU2MTEyLCAyNi41MzkwNzgxNTYzMTI2MjcsIDI2LjU3MTE0MjI4NDU2OTEzOCwgMjYuNjAzMjA2NDEyODI1NjUzLCAyNi42MzUyNzA1NDEwODIxNjQsIDI2LjY2NzMzNDY2OTMzODY4LCAyNi42OTkzOTg3OTc1OTUxOSwgMjYuNzMxNDYyOTI1ODUxNywgMjYuNzYzNTI3MDU0MTA4MjE2LCAyNi43OTU1OTExODIzNjQ3MywgMjYuODI3NjU1MzEwNjIxMjQzLCAyNi44NTk3MTk0Mzg4Nzc3NTQsIDI2Ljg5MTc4MzU2NzEzNDI3LCAyNi45MjM4NDc2OTUzOTA3OCwgMjYuOTU1OTExODIzNjQ3Mjk1LCAyNi45ODc5NzU5NTE5MDM4MDYsIDI3LjAyMDA0MDA4MDE2MDMyLCAyNy4wNTIxMDQyMDg0MTY4MzIsIDI3LjA4NDE2ODMzNjY3MzM0NywgMjcuMTE2MjMyNDY0OTI5ODYsIDI3LjE0ODI5NjU5MzE4NjM3MywgMjcuMTgwMzYwNzIxNDQyODg0LCAyNy4yMTI0MjQ4NDk2OTk0LCAyNy4yNDQ0ODg5Nzc5NTU5MSwgMjcuMjc2NTUzMTA2MjEyNDI1LCAyNy4zMDg2MTcyMzQ0Njg5MzcsIDI3LjM0MDY4MTM2MjcyNTQ1LCAyNy4zNzI3NDU0OTA5ODE5NjMsIDI3LjQwNDgwOTYxOTIzODQ3OCwgMjcuNDM2ODczNzQ3NDk0OTksIDI3LjQ2ODkzNzg3NTc1MTUwNCwgMjcuNTAxMDAyMDA0MDA4MDE1LCAyNy41MzMwNjYxMzIyNjQ1MywgMjcuNTY1MTMwMjYwNTIxMDQsIDI3LjU5NzE5NDM4ODc3NzU1NiwgMjcuNjI5MjU4NTE3MDM0MDY3LCAyNy42NjEzMjI2NDUyOTA1ODIsIDI3LjY5MzM4Njc3MzU0NzA5MywgMjcuNzI1NDUwOTAxODAzNjA4LCAyNy43NTc1MTUwMzAwNjAxMiwgMjcuNzg5NTc5MTU4MzE2NjM0LCAyNy44MjE2NDMyODY1NzMxNDYsIDI3Ljg1MzcwNzQxNDgyOTY2LCAyNy44ODU3NzE1NDMwODYxNywgMjcuOTE3ODM1NjcxMzQyNjg3LCAyNy45NDk4OTk3OTk1OTkxOTgsIDI3Ljk4MTk2MzkyNzg1NTcxMywgMjguMDE0MDI4MDU2MTEyMjI0LCAyOC4wNDYwOTIxODQzNjg3NCwgMjguMDc4MTU2MzEyNjI1MjUsIDI4LjExMDIyMDQ0MDg4MTc2NSwgMjguMTQyMjg0NTY5MTM4Mjc2LCAyOC4xNzQzNDg2OTczOTQ3OSwgMjguMjA2NDEyODI1NjUxMzAyLCAyOC4yMzg0NzY5NTM5MDc4MTcsIDI4LjI3MDU0MTA4MjE2NDMzLCAyOC4zMDI2MDUyMTA0MjA4NDMsIDI4LjMzNDY2OTMzODY3NzM1NCwgMjguMzY2NzMzNDY2OTMzODY2LCAyOC4zOTg3OTc1OTUxOTAzOCwgMjguNDMwODYxNzIzNDQ2ODk1LCAyOC40NjI5MjU4NTE3MDM0MDcsIDI4LjQ5NDk4OTk3OTk1OTkxOCwgMjguNTI3MDU0MTA4MjE2NDMzLCAyOC41NTkxMTgyMzY0NzI5NDgsIDI4LjU5MTE4MjM2NDcyOTQ2LCAyOC42MjMyNDY0OTI5ODU5NywgMjguNjU1MzEwNjIxMjQyNDg1LCAyOC42ODczNzQ3NDk0OTksIDI4LjcxOTQzODg3Nzc1NTUxLCAyOC43NTE1MDMwMDYwMTIwMjIsIDI4Ljc4MzU2NzEzNDI2ODUzNywgMjguODE1NjMxMjYyNTI1MDUsIDI4Ljg0NzY5NTM5MDc4MTU2MywgMjguODc5NzU5NTE5MDM4MDc1LCAyOC45MTE4MjM2NDcyOTQ1OSwgMjguOTQzODg3Nzc1NTUxMSwgMjguOTc1OTUxOTAzODA3NjE2LCAyOS4wMDgwMTYwMzIwNjQxMjcsIDI5LjA0MDA4MDE2MDMyMDY0LCAyOS4wNzIxNDQyODg1NzcxNTMsIDI5LjEwNDIwODQxNjgzMzY2OCwgMjkuMTM2MjcyNTQ1MDkwMTgsIDI5LjE2ODMzNjY3MzM0NjY5NCwgMjkuMjAwNDAwODAxNjAzMjA1LCAyOS4yMzI0NjQ5Mjk4NTk3MiwgMjkuMjY0NTI5MDU4MTE2MjMsIDI5LjI5NjU5MzE4NjM3Mjc0NiwgMjkuMzI4NjU3MzE0NjI5MjU4LCAyOS4zNjA3MjE0NDI4ODU3NzIsIDI5LjM5Mjc4NTU3MTE0MjI4NCwgMjkuNDI0ODQ5Njk5Mzk4OCwgMjkuNDU2OTEzODI3NjU1MzEsIDI5LjQ4ODk3Nzk1NTkxMTgyNSwgMjkuNTIxMDQyMDg0MTY4MzM2LCAyOS41NTMxMDYyMTI0MjQ4NSwgMjkuNTg1MTcwMzQwNjgxMzYyLCAyOS42MTcyMzQ0Njg5Mzc4NzcsIDI5LjY0OTI5ODU5NzE5NDM4OCwgMjkuNjgxMzYyNzI1NDUwOTAzLCAyOS43MTM0MjY4NTM3MDc0MTQsIDI5Ljc0NTQ5MDk4MTk2MzkzLCAyOS43Nzc1NTUxMTAyMjA0NCwgMjkuODA5NjE5MjM4NDc2OTU1LCAyOS44NDE2ODMzNjY3MzM0NjYsIDI5Ljg3Mzc0NzQ5NDk4OTk4LCAyOS45MDU4MTE2MjMyNDY0OTMsIDI5LjkzNzg3NTc1MTUwMzAwNywgMjkuOTY5OTM5ODc5NzU5NTIsIDMwLjAwMjAwNDAwODAxNjAzLCAzMC4wMzQwNjgxMzYyNzI1NDUsIDMwLjA2NjEzMjI2NDUyOTA2LCAzMC4wOTgxOTYzOTI3ODU1NywgMzAuMTMwMjYwNTIxMDQyMDgyLCAzMC4xNjIzMjQ2NDkyOTg1OTcsIDMwLjE5NDM4ODc3NzU1NTExMiwgMzAuMjI2NDUyOTA1ODExNjIzLCAzMC4yNTg1MTcwMzQwNjgxMzQsIDMwLjI5MDU4MTE2MjMyNDY1LCAzMC4zMjI2NDUyOTA1ODExNjQsIDMwLjM1NDcwOTQxODgzNzY3NSwgMzAuMzg2NzczNTQ3MDk0MTg3LCAzMC40MTg4Mzc2NzUzNTA3LCAzMC40NTA5MDE4MDM2MDcyMTYsIDMwLjQ4Mjk2NTkzMTg2MzcyOCwgMzAuNTE1MDMwMDYwMTIwMjQsIDMwLjU0NzA5NDE4ODM3Njc1NCwgMzAuNTc5MTU4MzE2NjMzMjcsIDMwLjYxMTIyMjQ0NDg4OTc4LCAzMC42NDMyODY1NzMxNDYyOSwgMzAuNjc1MzUwNzAxNDAyODA2LCAzMC43MDc0MTQ4Mjk2NTkzMiwgMzAuNzM5NDc4OTU3OTE1ODMyLCAzMC43NzE1NDMwODYxNzIzNDMsIDMwLjgwMzYwNzIxNDQyODg1OCwgMzAuODM1NjcxMzQyNjg1MzcsIDMwLjg2NzczNTQ3MDk0MTg4NCwgMzAuODk5Nzk5NTk5MTk4Mzk2LCAzMC45MzE4NjM3Mjc0NTQ5MSwgMzAuOTYzOTI3ODU1NzExNDIsIDMwLjk5NTk5MTk4Mzk2NzkzNywgMzEuMDI4MDU2MTEyMjI0NDQ4LCAzMS4wNjAxMjAyNDA0ODA5NjMsIDMxLjA5MjE4NDM2ODczNzQ3NCwgMzEuMTI0MjQ4NDk2OTkzOTksIDMxLjE1NjMxMjYyNTI1MDUsIDMxLjE4ODM3Njc1MzUwNzAxNSwgMzEuMjIwNDQwODgxNzYzNTI2LCAzMS4yNTI1MDUwMTAwMjAwNCwgMzEuMjg0NTY5MTM4Mjc2NTUyLCAzMS4zMTY2MzMyNjY1MzMwNjcsIDMxLjM0ODY5NzM5NDc4OTU4LCAzMS4zODA3NjE1MjMwNDYwOTMsIDMxLjQxMjgyNTY1MTMwMjYwNSwgMzEuNDQ0ODg5Nzc5NTU5MTIsIDMxLjQ3Njk1MzkwNzgxNTYzLCAzMS41MDkwMTgwMzYwNzIxNDUsIDMxLjU0MTA4MjE2NDMyODY1NywgMzEuNTczMTQ2MjkyNTg1MTcsIDMxLjYwNTIxMDQyMDg0MTY4MywgMzEuNjM3Mjc0NTQ5MDk4MTk4LCAzMS42NjkzMzg2NzczNTQ3MSwgMzEuNzAxNDAyODA1NjExMjI0LCAzMS43MzM0NjY5MzM4Njc3MzUsIDMxLjc2NTUzMTA2MjEyNDI0NiwgMzEuNzk3NTk1MTkwMzgwNzYsIDMxLjgyOTY1OTMxODYzNzI3NiwgMzEuODYxNzIzNDQ2ODkzNzg3LCAzMS44OTM3ODc1NzUxNTAzLCAzMS45MjU4NTE3MDM0MDY4MTMsIDMxLjk1NzkxNTgzMTY2MzMzLCAzMS45ODk5Nzk5NTk5MTk4NCwgMzIuMDIyMDQ0MDg4MTc2MzUsIDMyLjA1NDEwODIxNjQzMjg2NiwgMzIuMDg2MTcyMzQ0Njg5MzgsIDMyLjExODIzNjQ3Mjk0NTg5NSwgMzIuMTUwMzAwNjAxMjAyNCwgMzIuMTgyMzY0NzI5NDU4OTIsIDMyLjIxNDQyODg1NzcxNTQzLCAzMi4yNDY0OTI5ODU5NzE5NCwgMzIuMjc4NTU3MTE0MjI4NDU1LCAzMi4zMTA2MjEyNDI0ODQ5NywgMzIuMzQyNjg1MzcwNzQxNDg1LCAzMi4zNzQ3NDk0OTg5OTgsIDMyLjQwNjgxMzYyNzI1NDUxLCAzMi40Mzg4Nzc3NTU1MTEwMiwgMzIuNDcwOTQxODgzNzY3NTQsIDMyLjUwMzAwNjAxMjAyNDA0NSwgMzIuNTM1MDcwMTQwMjgwNTYsIDMyLjU2NzEzNDI2ODUzNzA3NSwgMzIuNTk5MTk4Mzk2NzkzNTksIDMyLjYzMTI2MjUyNTA1MDEsIDMyLjY2MzMyNjY1MzMwNjYxLCAzMi42OTUzOTA3ODE1NjMxMywgMzIuNzI3NDU0OTA5ODE5NjQsIDMyLjc1OTUxOTAzODA3NjE1LCAzMi43OTE1ODMxNjYzMzI2NjQsIDMyLjgyMzY0NzI5NDU4OTE4LCAzMi44NTU3MTE0MjI4NDU2OTQsIDMyLjg4Nzc3NTU1MTEwMjIsIDMyLjkxOTgzOTY3OTM1ODcyLCAzMi45NTE5MDM4MDc2MTUyMywgMzIuOTgzOTY3OTM1ODcxNzQ2LCAzMy4wMTYwMzIwNjQxMjgyNTQsIDMzLjA0ODA5NjE5MjM4NDc3LCAzMy4wODAxNjAzMjA2NDEyOCwgMzMuMTEyMjI0NDQ4ODk3NzksIDMzLjE0NDI4ODU3NzE1NDMwNiwgMzMuMTc2MzUyNzA1NDEwODIsIDMzLjIwODQxNjgzMzY2NzMzNiwgMzMuMjQwNDgwOTYxOTIzODUsIDMzLjI3MjU0NTA5MDE4MDM2LCAzMy4zMDQ2MDkyMTg0MzY4NywgMzMuMzM2NjczMzQ2NjkzMzksIDMzLjM2ODczNzQ3NDk0OTg5NiwgMzMuNDAwODAxNjAzMjA2NDEsIDMzLjQzMjg2NTczMTQ2MjkyNSwgMzMuNDY0OTI5ODU5NzE5NDQsIDMzLjQ5Njk5Mzk4Nzk3NTk1NSwgMzMuNTI5MDU4MTE2MjMyNDYsIDMzLjU2MTEyMjI0NDQ4ODk4LCAzMy41OTMxODYzNzI3NDU0OSwgMzMuNjI1MjUwNTAxMDAyLCAzMy42NTczMTQ2MjkyNTg1MTUsIDMzLjY4OTM3ODc1NzUxNTAzLCAzMy43MjE0NDI4ODU3NzE1NDUsIDMzLjc1MzUwNzAxNDAyODA2LCAzMy43ODU1NzExNDIyODQ1NywgMzMuODE3NjM1MjcwNTQxMDgsIDMzLjg0OTY5OTM5ODc5NzYsIDMzLjg4MTc2MzUyNzA1NDEwNSwgMzMuOTEzODI3NjU1MzEwNjIsIDMzLjk0NTg5MTc4MzU2NzEzNCwgMzMuOTc3OTU1OTExODIzNjUsIDM0LjAxMDAyMDA0MDA4MDE2NCwgMzQuMDQyMDg0MTY4MzM2NjcsIDM0LjA3NDE0ODI5NjU5MzE5LCAzNC4xMDYyMTI0MjQ4NDk3LCAzNC4xMzgyNzY1NTMxMDYyMSwgMzQuMTcwMzQwNjgxMzYyNzI0LCAzNC4yMDI0MDQ4MDk2MTkyNCwgMzQuMjM0NDY4OTM3ODc1NzU0LCAzNC4yNjY1MzMwNjYxMzIyNywgMzQuMjk4NTk3MTk0Mzg4Nzc2LCAzNC4zMzA2NjEzMjI2NDUyOSwgMzQuMzYyNzI1NDUwOTAxODA2LCAzNC4zOTQ3ODk1NzkxNTgzMTQsIDM0LjQyNjg1MzcwNzQxNDgzLCAzNC40NTg5MTc4MzU2NzEzNCwgMzQuNDkwOTgxOTYzOTI3ODYsIDM0LjUyMzA0NjA5MjE4NDM3LCAzNC41NTUxMTAyMjA0NDA4OCwgMzQuNTg3MTc0MzQ4Njk3Mzk1LCAzNC42MTkyMzg0NzY5NTM5MSwgMzQuNjUxMzAyNjA1MjEwNDIsIDM0LjY4MzM2NjczMzQ2NjkzLCAzNC43MTU0MzA4NjE3MjM0NSwgMzQuNzQ3NDk0OTg5OTc5OTYsIDM0Ljc3OTU1OTExODIzNjQ3LCAzNC44MTE2MjMyNDY0OTI5ODUsIDM0Ljg0MzY4NzM3NDc0OTUsIDM0Ljg3NTc1MTUwMzAwNjAxNSwgMzQuOTA3ODE1NjMxMjYyNTIsIDM0LjkzOTg3OTc1OTUxOTA0LCAzNC45NzE5NDM4ODc3NzU1NSwgMzUuMDA0MDA4MDE2MDMyMDYsIDM1LjAzNjA3MjE0NDI4ODU3NSwgMzUuMDY4MTM2MjcyNTQ1MDksIDM1LjEwMDIwMDQwMDgwMTYwNCwgMzUuMTMyMjY0NTI5MDU4MTIsIDM1LjE2NDMyODY1NzMxNDYzLCAzNS4xOTYzOTI3ODU1NzExNCwgMzUuMjI4NDU2OTEzODI3NjYsIDM1LjI2MDUyMTA0MjA4NDE2NCwgMzUuMjkyNTg1MTcwMzQwNjgsIDM1LjMyNDY0OTI5ODU5NzE5NCwgMzUuMzU2NzEzNDI2ODUzNzEsIDM1LjM4ODc3NzU1NTExMDIyNCwgMzUuNDIwODQxNjgzMzY2NzMsIDM1LjQ1MjkwNTgxMTYyMzI0NiwgMzUuNDg0OTY5OTM5ODc5NzYsIDM1LjUxNzAzNDA2ODEzNjI3LCAzNS41NDkwOTgxOTYzOTI3ODQsIDM1LjU4MTE2MjMyNDY0OTMsIDM1LjYxMzIyNjQ1MjkwNTgxLCAzNS42NDUyOTA1ODExNjIzMywgMzUuNjc3MzU0NzA5NDE4ODM2LCAzNS43MDk0MTg4Mzc2NzUzNSwgMzUuNzQxNDgyOTY1OTMxODY2LCAzNS43NzM1NDcwOTQxODgzNywgMzUuODA1NjExMjIyNDQ0ODksIDM1LjgzNzY3NTM1MDcwMTQsIDM1Ljg2OTczOTQ3ODk1NzkyLCAzNS45MDE4MDM2MDcyMTQ0MywgMzUuOTMzODY3NzM1NDcwOTQsIDM1Ljk2NTkzMTg2MzcyNzQ1NSwgMzUuOTk3OTk1OTkxOTgzOTcsIDM2LjAzMDA2MDEyMDI0MDQ4LCAzNi4wNjIxMjQyNDg0OTY5OSwgMzYuMDk0MTg4Mzc2NzUzNTEsIDM2LjEyNjI1MjUwNTAxMDAyLCAzNi4xNTgzMTY2MzMyNjY1NCwgMzYuMTkwMzgwNzYxNTIzMDQ1LCAzNi4yMjI0NDQ4ODk3Nzk1NiwgMzYuMjU0NTA5MDE4MDM2MDc1LCAzNi4yODY1NzMxNDYyOTI1OCwgMzYuMzE4NjM3Mjc0NTQ5MSwgMzYuMzUwNzAxNDAyODA1NjEsIDM2LjM4Mjc2NTUzMTA2MjEzLCAzNi40MTQ4Mjk2NTkzMTg2NCwgMzYuNDQ2ODkzNzg3NTc1MTUsIDM2LjQ3ODk1NzkxNTgzMTY2NCwgMzYuNTExMDIyMDQ0MDg4MTgsIDM2LjU0MzA4NjE3MjM0NDY5LCAzNi41NzUxNTAzMDA2MDEyLCAzNi42MDcyMTQ0Mjg4NTc3MTYsIDM2LjYzOTI3ODU1NzExNDIyNCwgMzYuNjcxMzQyNjg1MzcwNzQsIDM2LjcwMzQwNjgxMzYyNzI1NCwgMzYuNzM1NDcwOTQxODgzNzcsIDM2Ljc2NzUzNTA3MDE0MDI4LCAzNi43OTk1OTkxOTgzOTY3OSwgMzYuODMxNjYzMzI2NjUzMzA2LCAzNi44NjM3Mjc0NTQ5MDk4MiwgMzYuODk1NzkxNTgzMTY2MzMsIDM2LjkyNzg1NTcxMTQyMjg0LCAzNi45NTk5MTk4Mzk2NzkzNiwgMzYuOTkxOTgzOTY3OTM1ODcsIDM3LjAyNDA0ODA5NjE5MjM5LCAzNy4wNTYxMTIyMjQ0NDg4OTYsIDM3LjA4ODE3NjM1MjcwNTQxLCAzNy4xMjAyNDA0ODA5NjE5MjUsIDM3LjE1MjMwNDYwOTIxODQzLCAzNy4xODQzNjg3Mzc0NzQ5NSwgMzcuMjE2NDMyODY1NzMxNDYsIDM3LjI0ODQ5Njk5Mzk4Nzk4LCAzNy4yODA1NjExMjIyNDQ0OSwgMzcuMzEyNjI1MjUwNTAxLCAzNy4zNDQ2ODkzNzg3NTc1MTUsIDM3LjM3Njc1MzUwNzAxNDAzLCAzNy40MDg4MTc2MzUyNzA1NCwgMzcuNDQwODgxNzYzNTI3MDUsIDM3LjQ3Mjk0NTg5MTc4MzU3LCAzNy41MDUwMTAwMjAwNDAwOCwgMzcuNTM3MDc0MTQ4Mjk2NiwgMzcuNTY5MTM4Mjc2NTUzMTA1LCAzNy42MDEyMDI0MDQ4MDk2MiwgMzcuNjMzMjY2NTMzMDY2MTM0LCAzNy42NjUzMzA2NjEzMjI2NCwgMzcuNjk3Mzk0Nzg5NTc5MTYsIDM3LjcyOTQ1ODkxNzgzNTY3LCAzNy43NjE1MjMwNDYwOTIxOSwgMzcuNzkzNTg3MTc0MzQ4NywgMzcuODI1NjUxMzAyNjA1MjEsIDM3Ljg1NzcxNTQzMDg2MTcyNCwgMzcuODg5Nzc5NTU5MTE4MjQsIDM3LjkyMTg0MzY4NzM3NDc0NiwgMzcuOTUzOTA3ODE1NjMxMjYsIDM3Ljk4NTk3MTk0Mzg4Nzc3NiwgMzguMDE4MDM2MDcyMTQ0MjksIDM4LjA1MDEwMDIwMDQwMDgwNiwgMzguMDgyMTY0MzI4NjU3MzEsIDM4LjExNDIyODQ1NjkxMzgzLCAzOC4xNDYyOTI1ODUxNzAzNCwgMzguMTc4MzU2NzEzNDI2ODUsIDM4LjIxMDQyMDg0MTY4MzM2NiwgMzguMjQyNDg0OTY5OTM5ODgsIDM4LjI3NDU0OTA5ODE5NjM5NSwgMzguMzA2NjEzMjI2NDUyOTEsIDM4LjMzODY3NzM1NDcwOTQyLCAzOC4zNzA3NDE0ODI5NjU5MywgMzguNDAyODA1NjExMjIyNDUsIDM4LjQzNDg2OTczOTQ3ODk1NSwgMzguNDY2OTMzODY3NzM1NDcsIDM4LjQ5ODk5Nzk5NTk5MTk4NSwgMzguNTMxMDYyMTI0MjQ4NDksIDM4LjU2MzEyNjI1MjUwNTAxLCAzOC41OTUxOTAzODA3NjE1MiwgMzguNjI3MjU0NTA5MDE4MDQsIDM4LjY1OTMxODYzNzI3NDU1LCAzOC42OTEzODI3NjU1MzEwNiwgMzguNzIzNDQ2ODkzNzg3NTc1LCAzOC43NTU1MTEwMjIwNDQwOSwgMzguNzg3NTc1MTUwMzAwNiwgMzguODE5NjM5Mjc4NTU3MTEsIDM4Ljg1MTcwMzQwNjgxMzYzLCAzOC44ODM3Njc1MzUwNzAxNCwgMzguOTE1ODMxNjYzMzI2NjYsIDM4Ljk0Nzg5NTc5MTU4MzE2NCwgMzguOTc5OTU5OTE5ODM5NjgsIDM5LjAxMjAyNDA0ODA5NjE5NCwgMzkuMDQ0MDg4MTc2MzUyNywgMzkuMDc2MTUyMzA0NjA5MjIsIDM5LjEwODIxNjQzMjg2NTczLCAzOS4xNDAyODA1NjExMjIyNDYsIDM5LjE3MjM0NDY4OTM3ODc2LCAzOS4yMDQ0MDg4MTc2MzUyNywgMzkuMjM2NDcyOTQ1ODkxNzg0LCAzOS4yNjg1MzcwNzQxNDgzLCAzOS4zMDA2MDEyMDI0MDQ4MDYsIDM5LjMzMjY2NTMzMDY2MTMyLCAzOS4zNjQ3Mjk0NTg5MTc4MzYsIDM5LjM5Njc5MzU4NzE3NDM1LCAzOS40Mjg4NTc3MTU0MzA4NjUsIDM5LjQ2MDkyMTg0MzY4NzM3LCAzOS40OTI5ODU5NzE5NDM4OSwgMzkuNTI1MDUwMTAwMjAwNCwgMzkuNTU3MTE0MjI4NDU2OTEsIDM5LjU4OTE3ODM1NjcxMzQyNSwgMzkuNjIxMjQyNDg0OTY5OTQsIDM5LjY1MzMwNjYxMzIyNjQ1NSwgMzkuNjg1MzcwNzQxNDgyOTcsIDM5LjcxNzQzNDg2OTczOTQ4LCAzOS43NDk0OTg5OTc5OTU5OSwgMzkuNzgxNTYzMTI2MjUyNTEsIDM5LjgxMzYyNzI1NDUwOTAxNSwgMzkuODQ1NjkxMzgyNzY1NTMsIDM5Ljg3Nzc1NTUxMTAyMjA0NSwgMzkuOTA5ODE5NjM5Mjc4NTYsIDM5Ljk0MTg4Mzc2NzUzNTA3NCwgMzkuOTczOTQ3ODk1NzkxNTgsIDQwLjAwNjAxMjAyNDA0ODEsIDQwLjAzODA3NjE1MjMwNDYxLCA0MC4wNzAxNDAyODA1NjExMiwgNDAuMTAyMjA0NDA4ODE3NjM0LCA0MC4xMzQyNjg1MzcwNzQxNSwgNDAuMTY2MzMyNjY1MzMwNjYsIDQwLjE5ODM5Njc5MzU4NzE3LCA0MC4yMzA0NjA5MjE4NDM2OSwgNDAuMjYyNTI1MDUwMTAwMiwgNDAuMjk0NTg5MTc4MzU2NzE2LCA0MC4zMjY2NTMzMDY2MTMyMjQsIDQwLjM1ODcxNzQzNDg2OTc0LCA0MC4zOTA3ODE1NjMxMjYyNTQsIDQwLjQyMjg0NTY5MTM4Mjc2LCA0MC40NTQ5MDk4MTk2MzkyNzYsIDQwLjQ4Njk3Mzk0Nzg5NTc5LCA0MC41MTkwMzgwNzYxNTIzMDYsIDQwLjU1MTEwMjIwNDQwODgyLCA0MC41ODMxNjYzMzI2NjUzMywgNDAuNjE1MjMwNDYwOTIxODQsIDQwLjY0NzI5NDU4OTE3ODM2LCA0MC42NzkzNTg3MTc0MzQ4NjYsIDQwLjcxMTQyMjg0NTY5MTM4LCA0MC43NDM0ODY5NzM5NDc4OTYsIDQwLjc3NTU1MTEwMjIwNDQxLCA0MC44MDc2MTUyMzA0NjA5MjUsIDQwLjgzOTY3OTM1ODcxNzQzLCA0MC44NzE3NDM0ODY5NzM5NSwgNDAuOTAzODA3NjE1MjMwNDYsIDQwLjkzNTg3MTc0MzQ4Njk3LCA0MC45Njc5MzU4NzE3NDM0ODUsIDQxLjBdKQogICAgICAgICAgICAgIC5yYW5nZShbJyMwMDgwMDAnLCAnIzAxODEwMCcsICcjMDI4MTAwJywgJyMwMzgyMDAnLCAnIzA0ODIwMCcsICcjMDU4MzAwJywgJyMwNjgzMDAnLCAnIzA3ODQwMCcsICcjMDg4NDAwJywgJyMwOTg1MDAnLCAnIzBhODUwMCcsICcjMGI4NjAwJywgJyMwYzg2MDAnLCAnIzBkODcwMCcsICcjMGU4NzAwJywgJyMwZjg4MDAnLCAnIzEwODgwMCcsICcjMTE4OTAwJywgJyMxMjg5MDAnLCAnIzEzOGEwMCcsICcjMTQ4YTAwJywgJyMxNThiMDAnLCAnIzE2OGIwMCcsICcjMTc4YzAwJywgJyMxODhjMDAnLCAnIzE5OGQwMCcsICcjMWE4ZDAwJywgJyMxYjhlMDAnLCAnIzFjOGUwMCcsICcjMWQ4ZjAwJywgJyMxZThmMDAnLCAnIzFmOTAwMCcsICcjMjA5MDAwJywgJyMyMTkxMDAnLCAnIzIyOTEwMCcsICcjMjM5MjAwJywgJyMyNDkyMDAnLCAnIzI1OTMwMCcsICcjMjY5MzAwJywgJyMyODk0MDAnLCAnIzI5OTQwMCcsICcjMmE5NTAwJywgJyMyYjk1MDAnLCAnIzJjOTYwMCcsICcjMmQ5NjAwJywgJyMyZTk3MDAnLCAnIzJmOTgwMCcsICcjMzA5ODAwJywgJyMzMTk5MDAnLCAnIzMyOTkwMCcsICcjMzM5YTAwJywgJyMzNDlhMDAnLCAnIzM1OWIwMCcsICcjMzY5YjAwJywgJyMzNzljMDAnLCAnIzM4OWMwMCcsICcjMzk5ZDAwJywgJyMzYTlkMDAnLCAnIzNiOWUwMCcsICcjM2M5ZTAwJywgJyMzZDlmMDAnLCAnIzNlOWYwMCcsICcjM2ZhMDAwJywgJyM0MGEwMDAnLCAnIzQxYTEwMCcsICcjNDJhMTAwJywgJyM0M2EyMDAnLCAnIzQ0YTIwMCcsICcjNDVhMzAwJywgJyM0NmEzMDAnLCAnIzQ3YTQwMCcsICcjNDhhNDAwJywgJyM0OWE1MDAnLCAnIzRhYTUwMCcsICcjNGJhNjAwJywgJyM0Y2E2MDAnLCAnIzRkYTcwMCcsICcjNGZhNzAwJywgJyM1MGE4MDAnLCAnIzUxYTgwMCcsICcjNTJhOTAwJywgJyM1M2E5MDAnLCAnIzU0YWEwMCcsICcjNTVhYTAwJywgJyM1NmFiMDAnLCAnIzU3YWIwMCcsICcjNThhYzAwJywgJyM1OWFjMDAnLCAnIzVhYWQwMCcsICcjNWJhZDAwJywgJyM1Y2FlMDAnLCAnIzVkYWYwMCcsICcjNWVhZjAwJywgJyM1ZmIwMDAnLCAnIzYwYjAwMCcsICcjNjFiMTAwJywgJyM2MmIxMDAnLCAnIzYzYjIwMCcsICcjNjRiMjAwJywgJyM2NWIzMDAnLCAnIzY2YjMwMCcsICcjNjdiNDAwJywgJyM2OGI0MDAnLCAnIzY5YjUwMCcsICcjNmFiNTAwJywgJyM2YmI2MDAnLCAnIzZjYjYwMCcsICcjNmRiNzAwJywgJyM2ZWI3MDAnLCAnIzZmYjgwMCcsICcjNzBiODAwJywgJyM3MWI5MDAnLCAnIzcyYjkwMCcsICcjNzNiYTAwJywgJyM3NGJhMDAnLCAnIzc1YmIwMCcsICcjNzdiYjAwJywgJyM3OGJjMDAnLCAnIzc5YmMwMCcsICcjN2FiZDAwJywgJyM3YmJkMDAnLCAnIzdjYmUwMCcsICcjN2RiZTAwJywgJyM3ZWJmMDAnLCAnIzdmYmYwMCcsICcjODBjMDAwJywgJyM4MWMwMDAnLCAnIzgyYzEwMCcsICcjODNjMTAwJywgJyM4NGMyMDAnLCAnIzg1YzIwMCcsICcjODZjMzAwJywgJyM4N2MzMDAnLCAnIzg4YzQwMCcsICcjODljNDAwJywgJyM4YWM1MDAnLCAnIzhiYzUwMCcsICcjOGNjNjAwJywgJyM4ZGM3MDAnLCAnIzhlYzcwMCcsICcjOGZjODAwJywgJyM5MGM4MDAnLCAnIzkxYzkwMCcsICcjOTJjOTAwJywgJyM5M2NhMDAnLCAnIzk0Y2EwMCcsICcjOTVjYjAwJywgJyM5NmNiMDAnLCAnIzk3Y2MwMCcsICcjOThjYzAwJywgJyM5OWNkMDAnLCAnIzlhY2QwMCcsICcjOWJjZTAwJywgJyM5Y2NlMDAnLCAnIzllY2YwMCcsICcjOWZjZjAwJywgJyNhMGQwMDAnLCAnI2ExZDAwMCcsICcjYTJkMTAwJywgJyNhM2QxMDAnLCAnI2E0ZDIwMCcsICcjYTVkMjAwJywgJyNhNmQzMDAnLCAnI2E3ZDMwMCcsICcjYThkNDAwJywgJyNhOWQ0MDAnLCAnI2FhZDUwMCcsICcjYWJkNTAwJywgJyNhY2Q2MDAnLCAnI2FkZDYwMCcsICcjYWVkNzAwJywgJyNhZmQ3MDAnLCAnI2IwZDgwMCcsICcjYjFkODAwJywgJyNiMmQ5MDAnLCAnI2IzZDkwMCcsICcjYjRkYTAwJywgJyNiNWRhMDAnLCAnI2I2ZGIwMCcsICcjYjdkYjAwJywgJyNiOGRjMDAnLCAnI2I5ZGMwMCcsICcjYmFkZDAwJywgJyNiYmRlMDAnLCAnI2JjZGUwMCcsICcjYmRkZjAwJywgJyNiZWRmMDAnLCAnI2JmZTAwMCcsICcjYzBlMDAwJywgJyNjMWUxMDAnLCAnI2MyZTEwMCcsICcjYzNlMjAwJywgJyNjNWUyMDAnLCAnI2M2ZTMwMCcsICcjYzdlMzAwJywgJyNjOGU0MDAnLCAnI2M5ZTQwMCcsICcjY2FlNTAwJywgJyNjYmU1MDAnLCAnI2NjZTYwMCcsICcjY2RlNjAwJywgJyNjZWU3MDAnLCAnI2NmZTcwMCcsICcjZDBlODAwJywgJyNkMWU4MDAnLCAnI2QyZTkwMCcsICcjZDNlOTAwJywgJyNkNGVhMDAnLCAnI2Q1ZWEwMCcsICcjZDZlYjAwJywgJyNkN2ViMDAnLCAnI2Q4ZWMwMCcsICcjZDllYzAwJywgJyNkYWVkMDAnLCAnI2RiZWQwMCcsICcjZGNlZTAwJywgJyNkZGVlMDAnLCAnI2RlZWYwMCcsICcjZGZlZjAwJywgJyNlMGYwMDAnLCAnI2UxZjAwMCcsICcjZTJmMTAwJywgJyNlM2YxMDAnLCAnI2U0ZjIwMCcsICcjZTVmMjAwJywgJyNlNmYzMDAnLCAnI2U3ZjMwMCcsICcjZThmNDAwJywgJyNlOWY1MDAnLCAnI2VhZjUwMCcsICcjZWJmNjAwJywgJyNlZGY2MDAnLCAnI2VlZjcwMCcsICcjZWZmNzAwJywgJyNmMGY4MDAnLCAnI2YxZjgwMCcsICcjZjJmOTAwJywgJyNmM2Y5MDAnLCAnI2Y0ZmEwMCcsICcjZjVmYTAwJywgJyNmNmZiMDAnLCAnI2Y3ZmIwMCcsICcjZjhmYzAwJywgJyNmOWZjMDAnLCAnI2ZhZmQwMCcsICcjZmJmZDAwJywgJyNmY2ZlMDAnLCAnI2ZkZmUwMCcsICcjZmVmZjAwJywgJyNmZmZmMDAnLCAnI2ZmZmYwMCcsICcjZmZmZTAwJywgJyNmZmZkMDAnLCAnI2ZmZmMwMCcsICcjZmZmYjAwJywgJyNmZmZhMDAnLCAnI2ZmZjkwMCcsICcjZmZmODAwJywgJyNmZmY3MDAnLCAnI2ZmZjYwMCcsICcjZmZmNTAwJywgJyNmZmY0MDAnLCAnI2ZmZjMwMCcsICcjZmZmMjAwJywgJyNmZmYxMDAnLCAnI2ZmZjAwMCcsICcjZmZlZjAwJywgJyNmZmVlMDAnLCAnI2ZmZWQwMCcsICcjZmZlYjAwJywgJyNmZmVhMDAnLCAnI2ZmZTkwMCcsICcjZmZlODAwJywgJyNmZmU3MDAnLCAnI2ZmZTYwMCcsICcjZmZlNTAwJywgJyNmZmU0MDAnLCAnI2ZmZTMwMCcsICcjZmZlMjAwJywgJyNmZmUxMDAnLCAnI2ZmZTAwMCcsICcjZmZkZjAwJywgJyNmZmRlMDAnLCAnI2ZmZGQwMCcsICcjZmZkYzAwJywgJyNmZmRiMDAnLCAnI2ZmZGEwMCcsICcjZmZkOTAwJywgJyNmZmQ4MDAnLCAnI2ZmZDcwMCcsICcjZmZkNjAwJywgJyNmZmQ1MDAnLCAnI2ZmZDQwMCcsICcjZmZkMzAwJywgJyNmZmQyMDAnLCAnI2ZmZDEwMCcsICcjZmZkMDAwJywgJyNmZmNmMDAnLCAnI2ZmY2UwMCcsICcjZmZjZDAwJywgJyNmZmNjMDAnLCAnI2ZmY2IwMCcsICcjZmZjYTAwJywgJyNmZmM5MDAnLCAnI2ZmYzgwMCcsICcjZmZjNzAwJywgJyNmZmM2MDAnLCAnI2ZmYzUwMCcsICcjZmZjMzAwJywgJyNmZmMyMDAnLCAnI2ZmYzEwMCcsICcjZmZjMDAwJywgJyNmZmJmMDAnLCAnI2ZmYmUwMCcsICcjZmZiZDAwJywgJyNmZmJjMDAnLCAnI2ZmYmIwMCcsICcjZmZiYTAwJywgJyNmZmI5MDAnLCAnI2ZmYjgwMCcsICcjZmZiNzAwJywgJyNmZmI2MDAnLCAnI2ZmYjUwMCcsICcjZmZiNDAwJywgJyNmZmIzMDAnLCAnI2ZmYjIwMCcsICcjZmZiMTAwJywgJyNmZmIwMDAnLCAnI2ZmYWYwMCcsICcjZmZhZTAwJywgJyNmZmFkMDAnLCAnI2ZmYWMwMCcsICcjZmZhYjAwJywgJyNmZmFhMDAnLCAnI2ZmYTkwMCcsICcjZmZhODAwJywgJyNmZmE3MDAnLCAnI2ZmYTYwMCcsICcjZmZhNTAwJywgJyNmZmE0MDAnLCAnI2ZmYTMwMCcsICcjZmZhMjAwJywgJyNmZmExMDAnLCAnI2ZmYTAwMCcsICcjZmY5ZjAwJywgJyNmZjllMDAnLCAnI2ZmOWMwMCcsICcjZmY5YjAwJywgJyNmZjlhMDAnLCAnI2ZmOTkwMCcsICcjZmY5ODAwJywgJyNmZjk3MDAnLCAnI2ZmOTYwMCcsICcjZmY5NTAwJywgJyNmZjk0MDAnLCAnI2ZmOTMwMCcsICcjZmY5MjAwJywgJyNmZjkxMDAnLCAnI2ZmOTAwMCcsICcjZmY4ZjAwJywgJyNmZjhlMDAnLCAnI2ZmOGQwMCcsICcjZmY4YzAwJywgJyNmZjhiMDAnLCAnI2ZmOGEwMCcsICcjZmY4OTAwJywgJyNmZjg4MDAnLCAnI2ZmODcwMCcsICcjZmY4NjAwJywgJyNmZjg1MDAnLCAnI2ZmODQwMCcsICcjZmY4MzAwJywgJyNmZjgyMDAnLCAnI2ZmODEwMCcsICcjZmY4MDAwJywgJyNmZjdmMDAnLCAnI2ZmN2UwMCcsICcjZmY3ZDAwJywgJyNmZjdjMDAnLCAnI2ZmN2IwMCcsICcjZmY3YTAwJywgJyNmZjc5MDAnLCAnI2ZmNzgwMCcsICcjZmY3NzAwJywgJyNmZjc1MDAnLCAnI2ZmNzQwMCcsICcjZmY3MzAwJywgJyNmZjcyMDAnLCAnI2ZmNzEwMCcsICcjZmY3MDAwJywgJyNmZjZmMDAnLCAnI2ZmNmUwMCcsICcjZmY2ZDAwJywgJyNmZjZjMDAnLCAnI2ZmNmIwMCcsICcjZmY2YTAwJywgJyNmZjY5MDAnLCAnI2ZmNjgwMCcsICcjZmY2NzAwJywgJyNmZjY2MDAnLCAnI2ZmNjUwMCcsICcjZmY2NDAwJywgJyNmZjYzMDAnLCAnI2ZmNjIwMCcsICcjZmY2MTAwJywgJyNmZjYwMDAnLCAnI2ZmNWYwMCcsICcjZmY1ZTAwJywgJyNmZjVkMDAnLCAnI2ZmNWMwMCcsICcjZmY1YjAwJywgJyNmZjVhMDAnLCAnI2ZmNTkwMCcsICcjZmY1ODAwJywgJyNmZjU3MDAnLCAnI2ZmNTYwMCcsICcjZmY1NTAwJywgJyNmZjU0MDAnLCAnI2ZmNTMwMCcsICcjZmY1MjAwJywgJyNmZjUxMDAnLCAnI2ZmNTAwMCcsICcjZmY0ZjAwJywgJyNmZjRkMDAnLCAnI2ZmNGMwMCcsICcjZmY0YjAwJywgJyNmZjRhMDAnLCAnI2ZmNDkwMCcsICcjZmY0ODAwJywgJyNmZjQ3MDAnLCAnI2ZmNDYwMCcsICcjZmY0NTAwJywgJyNmZjQ0MDAnLCAnI2ZmNDMwMCcsICcjZmY0MjAwJywgJyNmZjQxMDAnLCAnI2ZmNDAwMCcsICcjZmYzZjAwJywgJyNmZjNlMDAnLCAnI2ZmM2QwMCcsICcjZmYzYzAwJywgJyNmZjNiMDAnLCAnI2ZmM2EwMCcsICcjZmYzOTAwJywgJyNmZjM4MDAnLCAnI2ZmMzcwMCcsICcjZmYzNjAwJywgJyNmZjM1MDAnLCAnI2ZmMzQwMCcsICcjZmYzMzAwJywgJyNmZjMyMDAnLCAnI2ZmMzEwMCcsICcjZmYzMDAwJywgJyNmZjJmMDAnLCAnI2ZmMmUwMCcsICcjZmYyZDAwJywgJyNmZjJjMDAnLCAnI2ZmMmIwMCcsICcjZmYyYTAwJywgJyNmZjI5MDAnLCAnI2ZmMjgwMCcsICcjZmYyNjAwJywgJyNmZjI1MDAnLCAnI2ZmMjQwMCcsICcjZmYyMzAwJywgJyNmZjIyMDAnLCAnI2ZmMjEwMCcsICcjZmYyMDAwJywgJyNmZjFmMDAnLCAnI2ZmMWUwMCcsICcjZmYxZDAwJywgJyNmZjFjMDAnLCAnI2ZmMWIwMCcsICcjZmYxYTAwJywgJyNmZjE5MDAnLCAnI2ZmMTgwMCcsICcjZmYxNzAwJywgJyNmZjE2MDAnLCAnI2ZmMTUwMCcsICcjZmYxNDAwJywgJyNmZjEzMDAnLCAnI2ZmMTIwMCcsICcjZmYxMTAwJywgJyNmZjEwMDAnLCAnI2ZmMGYwMCcsICcjZmYwZTAwJywgJyNmZjBkMDAnLCAnI2ZmMGMwMCcsICcjZmYwYjAwJywgJyNmZjBhMDAnLCAnI2ZmMDkwMCcsICcjZmYwODAwJywgJyNmZjA3MDAnLCAnI2ZmMDYwMCcsICcjZmYwNTAwJywgJyNmZjA0MDAnLCAnI2ZmMDMwMCcsICcjZmYwMjAwJywgJyNmZjAxMDAnLCAnI2ZmMDAwMCddKTsKICAgIAoKICAgIGNvbG9yX21hcF9iODc1NzRmMGVlOWQ0M2ZkYThhM2ZhZTM5ODU5MTE1MC54ID0gZDMuc2NhbGUubGluZWFyKCkKICAgICAgICAgICAgICAuZG9tYWluKFsyNS4wLCA0MS4wXSkKICAgICAgICAgICAgICAucmFuZ2UoWzAsIDQwMF0pOwoKICAgIGNvbG9yX21hcF9iODc1NzRmMGVlOWQ0M2ZkYThhM2ZhZTM5ODU5MTE1MC5sZWdlbmQgPSBMLmNvbnRyb2woe3Bvc2l0aW9uOiAndG9wcmlnaHQnfSk7CiAgICBjb2xvcl9tYXBfYjg3NTc0ZjBlZTlkNDNmZGE4YTNmYWUzOTg1OTExNTAubGVnZW5kLm9uQWRkID0gZnVuY3Rpb24gKG1hcCkge3ZhciBkaXYgPSBMLkRvbVV0aWwuY3JlYXRlKCdkaXYnLCAnbGVnZW5kJyk7IHJldHVybiBkaXZ9OwogICAgY29sb3JfbWFwX2I4NzU3NGYwZWU5ZDQzZmRhOGEzZmFlMzk4NTkxMTUwLmxlZ2VuZC5hZGRUbyhtYXBfM2EzZjNhNmFiMTU0NDQyYzgzYTI0ZDZlNjExNzVlZDEpOwoKICAgIGNvbG9yX21hcF9iODc1NzRmMGVlOWQ0M2ZkYThhM2ZhZTM5ODU5MTE1MC54QXhpcyA9IGQzLnN2Zy5heGlzKCkKICAgICAgICAuc2NhbGUoY29sb3JfbWFwX2I4NzU3NGYwZWU5ZDQzZmRhOGEzZmFlMzk4NTkxMTUwLngpCiAgICAgICAgLm9yaWVudCgidG9wIikKICAgICAgICAudGlja1NpemUoMSkKICAgICAgICAudGlja1ZhbHVlcyhbMjUuMCwgMzMuMCwgNDEuMF0pOwoKICAgIGNvbG9yX21hcF9iODc1NzRmMGVlOWQ0M2ZkYThhM2ZhZTM5ODU5MTE1MC5zdmcgPSBkMy5zZWxlY3QoIi5sZWdlbmQubGVhZmxldC1jb250cm9sIikuYXBwZW5kKCJzdmciKQogICAgICAgIC5hdHRyKCJpZCIsICdsZWdlbmQnKQogICAgICAgIC5hdHRyKCJ3aWR0aCIsIDQ1MCkKICAgICAgICAuYXR0cigiaGVpZ2h0IiwgNDApOwoKICAgIGNvbG9yX21hcF9iODc1NzRmMGVlOWQ0M2ZkYThhM2ZhZTM5ODU5MTE1MC5nID0gY29sb3JfbWFwX2I4NzU3NGYwZWU5ZDQzZmRhOGEzZmFlMzk4NTkxMTUwLnN2Zy5hcHBlbmQoImciKQogICAgICAgIC5hdHRyKCJjbGFzcyIsICJrZXkiKQogICAgICAgIC5hdHRyKCJ0cmFuc2Zvcm0iLCAidHJhbnNsYXRlKDI1LDE2KSIpOwoKICAgIGNvbG9yX21hcF9iODc1NzRmMGVlOWQ0M2ZkYThhM2ZhZTM5ODU5MTE1MC5nLnNlbGVjdEFsbCgicmVjdCIpCiAgICAgICAgLmRhdGEoY29sb3JfbWFwX2I4NzU3NGYwZWU5ZDQzZmRhOGEzZmFlMzk4NTkxMTUwLmNvbG9yLnJhbmdlKCkubWFwKGZ1bmN0aW9uKGQsIGkpIHsKICAgICAgICAgIHJldHVybiB7CiAgICAgICAgICAgIHgwOiBpID8gY29sb3JfbWFwX2I4NzU3NGYwZWU5ZDQzZmRhOGEzZmFlMzk4NTkxMTUwLngoY29sb3JfbWFwX2I4NzU3NGYwZWU5ZDQzZmRhOGEzZmFlMzk4NTkxMTUwLmNvbG9yLmRvbWFpbigpW2kgLSAxXSkgOiBjb2xvcl9tYXBfYjg3NTc0ZjBlZTlkNDNmZGE4YTNmYWUzOTg1OTExNTAueC5yYW5nZSgpWzBdLAogICAgICAgICAgICB4MTogaSA8IGNvbG9yX21hcF9iODc1NzRmMGVlOWQ0M2ZkYThhM2ZhZTM5ODU5MTE1MC5jb2xvci5kb21haW4oKS5sZW5ndGggPyBjb2xvcl9tYXBfYjg3NTc0ZjBlZTlkNDNmZGE4YTNmYWUzOTg1OTExNTAueChjb2xvcl9tYXBfYjg3NTc0ZjBlZTlkNDNmZGE4YTNmYWUzOTg1OTExNTAuY29sb3IuZG9tYWluKClbaV0pIDogY29sb3JfbWFwX2I4NzU3NGYwZWU5ZDQzZmRhOGEzZmFlMzk4NTkxMTUwLngucmFuZ2UoKVsxXSwKICAgICAgICAgICAgejogZAogICAgICAgICAgfTsKICAgICAgICB9KSkKICAgICAgLmVudGVyKCkuYXBwZW5kKCJyZWN0IikKICAgICAgICAuYXR0cigiaGVpZ2h0IiwgMTApCiAgICAgICAgLmF0dHIoIngiLCBmdW5jdGlvbihkKSB7IHJldHVybiBkLngwOyB9KQogICAgICAgIC5hdHRyKCJ3aWR0aCIsIGZ1bmN0aW9uKGQpIHsgcmV0dXJuIGQueDEgLSBkLngwOyB9KQogICAgICAgIC5zdHlsZSgiZmlsbCIsIGZ1bmN0aW9uKGQpIHsgcmV0dXJuIGQuejsgfSk7CgogICAgY29sb3JfbWFwX2I4NzU3NGYwZWU5ZDQzZmRhOGEzZmFlMzk4NTkxMTUwLmcuY2FsbChjb2xvcl9tYXBfYjg3NTc0ZjBlZTlkNDNmZGE4YTNmYWUzOTg1OTExNTAueEF4aXMpLmFwcGVuZCgidGV4dCIpCiAgICAgICAgLmF0dHIoImNsYXNzIiwgImNhcHRpb24iKQogICAgICAgIC5hdHRyKCJ5IiwgMjEpCiAgICAgICAgLnRleHQoJ1JvYWQgU3VyZmFjZSBUZW1wZXJhdHVyZSBbZGVncmVlcyBDZWxzaXVzXScpOwogICAgCiAgICAgICAgICAgIHZhciBmZWF0dXJlX2dyb3VwXzFlMDE2YjYwNjgxYjRjN2FhNGQwYzgzYWNkNTY4ZWFkID0gTC5mZWF0dXJlR3JvdXAoCiAgICAgICAgICAgICAgICApLmFkZFRvKG1hcF8zYTNmM2E2YWIxNTQ0NDJjODNhMjRkNmU2MTE3NWVkMSk7CiAgICAgICAgCiAgICAKCiAgICAgICAgICAgIHZhciBjaXJjbGVfbWFya2VyXzcwMjUzYzU0NDhmNTRhOTg4OTIwNjhjODZhYmY3Y2Q5ID0gTC5jaXJjbGVNYXJrZXIoCiAgICAgICAgICAgICAgICBbNDcuNTM5MTgsLTEyMi4zNjc1OF0sCiAgICAgICAgICAgICAgICB7CiAgICAgICAgICAgICAgICAgICAgY29sb3I6ICdOb25lJywKICAgICAgICAgICAgICAgICAgICB3ZWlnaHQ6IDIsCiAgICAgICAgICAgICAgICAgICAgZmlsbENvbG9yOiAnIzBhODUwMCcsCiAgICAgICAgICAgICAgICAgICAgZmlsbE9wYWNpdHk6IDAuNgogICAgICAgICAgICAgICAgICAgIH0KICAgICAgICAgICAgICAgICkKICAgICAgICAgICAgICAgIC5zZXRSYWRpdXMoMjUuMzQpCiAgICAgICAgICAgICAgICAuYWRkVG8oZmVhdHVyZV9ncm91cF8xZTAxNmI2MDY4MWI0YzdhYTRkMGM4M2FjZDU2OGVhZCk7CiAgICAgICAgICAgIAogICAgCgogICAgICAgICAgICB2YXIgY2lyY2xlX21hcmtlcl8xZjlmYTlmNDkyOGY0ODIzYjNiNGQ3NjMyMTcxMmNmYiA9IEwuY2lyY2xlTWFya2VyKAogICAgICAgICAgICAgICAgWzQ3LjU5ODQ0LC0xMjIuMzM1NjFdLAogICAgICAgICAgICAgICAgewogICAgICAgICAgICAgICAgICAgIGNvbG9yOiAnTm9uZScsCiAgICAgICAgICAgICAgICAgICAgd2VpZ2h0OiAyLAogICAgICAgICAgICAgICAgICAgIGZpbGxDb2xvcjogJyNmZmUxMDAnLAogICAgICAgICAgICAgICAgICAgIGZpbGxPcGFjaXR5OiAwLjYKICAgICAgICAgICAgICAgICAgICB9CiAgICAgICAgICAgICAgICApCiAgICAgICAgICAgICAgICAuc2V0UmFkaXVzKDMzLjkzOSkKICAgICAgICAgICAgICAgIC5hZGRUbyhmZWF0dXJlX2dyb3VwXzFlMDE2YjYwNjgxYjRjN2FhNGQwYzgzYWNkNTY4ZWFkKTsKICAgICAgICAgICAgCiAgICAKCiAgICAgICAgICAgIHZhciBjaXJjbGVfbWFya2VyX2E0MzVlOTBlNWJlMDQ0M2FhMmVkMGU5NTRiM2NhYzUzID0gTC5jaXJjbGVNYXJrZXIoCiAgICAgICAgICAgICAgICBbNDcuNTQ3NDMsLTEyMi4zMTQxMV0sCiAgICAgICAgICAgICAgICB7CiAgICAgICAgICAgICAgICAgICAgY29sb3I6ICdOb25lJywKICAgICAgICAgICAgICAgICAgICB3ZWlnaHQ6IDIsCiAgICAgICAgICAgICAgICAgICAgZmlsbENvbG9yOiAnI2ZmNTQwMCcsCiAgICAgICAgICAgICAgICAgICAgZmlsbE9wYWNpdHk6IDAuNgogICAgICAgICAgICAgICAgICAgIH0KICAgICAgICAgICAgICAgICkKICAgICAgICAgICAgICAgIC5zZXRSYWRpdXMoMzguMzUyKQogICAgICAgICAgICAgICAgLmFkZFRvKGZlYXR1cmVfZ3JvdXBfMWUwMTZiNjA2ODFiNGM3YWE0ZDBjODNhY2Q1NjhlYWQpOwogICAgICAgICAgICAKICAgIAoKICAgICAgICAgICAgdmFyIGNpcmNsZV9tYXJrZXJfNjVhNmNlY2IxOTUxNDZlMmExZjNmODVhOGZhYjVhODIgPSBMLmNpcmNsZU1hcmtlcigKICAgICAgICAgICAgICAgIFs0Ny42NDMxNywtMTIyLjM0NzI4XSwKICAgICAgICAgICAgICAgIHsKICAgICAgICAgICAgICAgICAgICBjb2xvcjogJ05vbmUnLAogICAgICAgICAgICAgICAgICAgIHdlaWdodDogMiwKICAgICAgICAgICAgICAgICAgICBmaWxsQ29sb3I6ICcjODVjMjAwJywKICAgICAgICAgICAgICAgICAgICBmaWxsT3BhY2l0eTogMC42CiAgICAgICAgICAgICAgICAgICAgfQogICAgICAgICAgICAgICAgKQogICAgICAgICAgICAgICAgLnNldFJhZGl1cygyOS4xNjUpCiAgICAgICAgICAgICAgICAuYWRkVG8oZmVhdHVyZV9ncm91cF8xZTAxNmI2MDY4MWI0YzdhYTRkMGM4M2FjZDU2OGVhZCk7CiAgICAgICAgICAgIAogICAgCgogICAgICAgICAgICB2YXIgY2lyY2xlX21hcmtlcl84Y2Q0NWM2YjM1NGY0YWRlYjhiM2IxODZhYzFkODZjMCA9IEwuY2lyY2xlTWFya2VyKAogICAgICAgICAgICAgICAgWzQ3LjU3MTY5LC0xMjIuMzcwODddLAogICAgICAgICAgICAgICAgewogICAgICAgICAgICAgICAgICAgIGNvbG9yOiAnTm9uZScsCiAgICAgICAgICAgICAgICAgICAgd2VpZ2h0OiAyLAogICAgICAgICAgICAgICAgICAgIGZpbGxDb2xvcjogJyNmZmI1MDAnLAogICAgICAgICAgICAgICAgICAgIGZpbGxPcGFjaXR5OiAwLjYKICAgICAgICAgICAgICAgICAgICB9CiAgICAgICAgICAgICAgICApCiAgICAgICAgICAgICAgICAuc2V0UmFkaXVzKDM1LjMyMikKICAgICAgICAgICAgICAgIC5hZGRUbyhmZWF0dXJlX2dyb3VwXzFlMDE2YjYwNjgxYjRjN2FhNGQwYzgzYWNkNTY4ZWFkKTsKICAgICAgICAgICAgCiAgICAKCiAgICAgICAgICAgIHZhciBjaXJjbGVfbWFya2VyXzdmMmM1ODY2YWJhMDRiYmJiMDgxYzNkNDZhNTIxMDRlID0gTC5jaXJjbGVNYXJrZXIoCiAgICAgICAgICAgICAgICBbNDcuNTk2NTMsLTEyMi4zMTczXSwKICAgICAgICAgICAgICAgIHsKICAgICAgICAgICAgICAgICAgICBjb2xvcjogJ05vbmUnLAogICAgICAgICAgICAgICAgICAgIHdlaWdodDogMiwKICAgICAgICAgICAgICAgICAgICBmaWxsQ29sb3I6ICcjZmY4NzAwJywKICAgICAgICAgICAgICAgICAgICBmaWxsT3BhY2l0eTogMC42CiAgICAgICAgICAgICAgICAgICAgfQogICAgICAgICAgICAgICAgKQogICAgICAgICAgICAgICAgLnNldFJhZGl1cygzNi43NzQpCiAgICAgICAgICAgICAgICAuYWRkVG8oZmVhdHVyZV9ncm91cF8xZTAxNmI2MDY4MWI0YzdhYTRkMGM4M2FjZDU2OGVhZCk7CiAgICAgICAgICAgIAogICAgCgogICAgICAgICAgICB2YXIgY2lyY2xlX21hcmtlcl83OGEyNDhjYTE0ZmU0NGU5YmI0MzllMDdlNTE2YjE4YiA9IEwuY2lyY2xlTWFya2VyKAogICAgICAgICAgICAgICAgWzQ3LjYzMzQ1LC0xMjIuMzg3MzRdLAogICAgICAgICAgICAgICAgewogICAgICAgICAgICAgICAgICAgIGNvbG9yOiAnTm9uZScsCiAgICAgICAgICAgICAgICAgICAgd2VpZ2h0OiAyLAogICAgICAgICAgICAgICAgICAgIGZpbGxDb2xvcjogJyNmZmE3MDAnLAogICAgICAgICAgICAgICAgICAgIGZpbGxPcGFjaXR5OiAwLjYKICAgICAgICAgICAgICAgICAgICB9CiAgICAgICAgICAgICAgICApCiAgICAgICAgICAgICAgICAuc2V0UmFkaXVzKDM1Ljc2NykKICAgICAgICAgICAgICAgIC5hZGRUbyhmZWF0dXJlX2dyb3VwXzFlMDE2YjYwNjgxYjRjN2FhNGQwYzgzYWNkNTY4ZWFkKTsKICAgICAgICAgICAgCiAgICAKCiAgICAgICAgICAgIHZhciBjaXJjbGVfbWFya2VyXzZhNzUyN2U0NjkyODQwYWRhZWU3Y2IzN2Y2Yzk4MGVlID0gTC5jaXJjbGVNYXJrZXIoCiAgICAgICAgICAgICAgICBbNDcuNjYxMjcsLTEyMi4zMDE5M10sCiAgICAgICAgICAgICAgICB7CiAgICAgICAgICAgICAgICAgICAgY29sb3I6ICdOb25lJywKICAgICAgICAgICAgICAgICAgICB3ZWlnaHQ6IDIsCiAgICAgICAgICAgICAgICAgICAgZmlsbENvbG9yOiAnI2ZmYmEwMCcsCiAgICAgICAgICAgICAgICAgICAgZmlsbE9wYWNpdHk6IDAuNgogICAgICAgICAgICAgICAgICAgIH0KICAgICAgICAgICAgICAgICkKICAgICAgICAgICAgICAgIC5zZXRSYWRpdXMoMzUuMTg2KQogICAgICAgICAgICAgICAgLmFkZFRvKGZlYXR1cmVfZ3JvdXBfMWUwMTZiNjA2ODFiNGM3YWE0ZDBjODNhY2Q1NjhlYWQpOwogICAgICAgICAgICAKICAgIAoKICAgICAgICAgICAgdmFyIGNpcmNsZV9tYXJrZXJfMjYzZjIzODFhOTViNDM0NThhODRmZjEwYWVmNGEyZDQgPSBMLmNpcmNsZU1hcmtlcigKICAgICAgICAgICAgICAgIFs0Ny42OTIwOSwtMTIyLjMxNzY1XSwKICAgICAgICAgICAgICAgIHsKICAgICAgICAgICAgICAgICAgICBjb2xvcjogJ05vbmUnLAogICAgICAgICAgICAgICAgICAgIHdlaWdodDogMiwKICAgICAgICAgICAgICAgICAgICBmaWxsQ29sb3I6ICcjZDZlYjAwJywKICAgICAgICAgICAgICAgICAgICBmaWxsT3BhY2l0eTogMC42CiAgICAgICAgICAgICAgICAgICAgfQogICAgICAgICAgICAgICAgKQogICAgICAgICAgICAgICAgLnNldFJhZGl1cygzMS43MDgpCiAgICAgICAgICAgICAgICAuYWRkVG8oZmVhdHVyZV9ncm91cF8xZTAxNmI2MDY4MWI0YzdhYTRkMGM4M2FjZDU2OGVhZCk7CiAgICAgICAgICAgIAogICAgCgogICAgICAgICAgICB2YXIgY2lyY2xlX21hcmtlcl9kOTA3ZDk0OTUzODA0ZTA5YTUyZjE1YTFkMjJhNmUyMSA9IEwuY2lyY2xlTWFya2VyKAogICAgICAgICAgICAgICAgWzQ3LjU3MTM5LC0xMjIuMzUxNzRdLAogICAgICAgICAgICAgICAgewogICAgICAgICAgICAgICAgICAgIGNvbG9yOiAnTm9uZScsCiAgICAgICAgICAgICAgICAgICAgd2VpZ2h0OiAyLAogICAgICAgICAgICAgICAgICAgIGZpbGxDb2xvcjogJyNmZjliMDAnLAogICAgICAgICAgICAgICAgICAgIGZpbGxPcGFjaXR5OiAwLjYKICAgICAgICAgICAgICAgICAgICB9CiAgICAgICAgICAgICAgICApCiAgICAgICAgICAgICAgICAuc2V0UmFkaXVzKDM2LjE0NykKICAgICAgICAgICAgICAgIC5hZGRUbyhmZWF0dXJlX2dyb3VwXzFlMDE2YjYwNjgxYjRjN2FhNGQwYzgzYWNkNTY4ZWFkKTsKICAgICAgICAgICAgCiAgICAKCiAgICAgICAgICAgIHZhciBtYXJrZXJfYzcyMjUwNmZmZWNkNDE3Y2ExNjI5N2IwOGVlNTY5ZTUgPSBMLm1hcmtlcigKICAgICAgICAgICAgICAgIFs0Ny41MzkxOCwtMTIyLjM2NzU4XSwKICAgICAgICAgICAgICAgIHsKICAgICAgICAgICAgICAgICAgICBpY29uOiBuZXcgTC5JY29uLkRlZmF1bHQoKQogICAgICAgICAgICAgICAgICAgIH0KICAgICAgICAgICAgICAgICkKICAgICAgICAgICAgICAgIC5hZGRUbyhtYXBfM2EzZjNhNmFiMTU0NDQyYzgzYTI0ZDZlNjExNzVlZDEpOwogICAgICAgICAgICAKICAgIAogICAgICAgICAgICB2YXIgcG9wdXBfNGY5NWIyNzllOGU2NDI4MGIxMmQyNGEzZDU2YmIxZTggPSBMLnBvcHVwKHttYXhXaWR0aDogJzMwMCd9KTsKCiAgICAgICAgICAgIAogICAgICAgICAgICAgICAgdmFyIGh0bWxfNDYyMmMzOTc3YmEzNDc2Y2I4Zjk4ZGVjMTNiMTk0MGMgPSAkKCc8ZGl2IGlkPSJodG1sXzQ2MjJjMzk3N2JhMzQ3NmNiOGY5OGRlYzEzYjE5NDBjIiBzdHlsZT0id2lkdGg6IDEwMC4wJTsgaGVpZ2h0OiAxMDAuMCU7Ij5CcmlkZ2U6IDM1dGhBdmVTV19TV015cnRsZVN0OyBNYXggVGVtcDogMjUuMzQ8L2Rpdj4nKVswXTsKICAgICAgICAgICAgICAgIHBvcHVwXzRmOTViMjc5ZThlNjQyODBiMTJkMjRhM2Q1NmJiMWU4LnNldENvbnRlbnQoaHRtbF80NjIyYzM5NzdiYTM0NzZjYjhmOThkZWMxM2IxOTQwYyk7CiAgICAgICAgICAgIAoKICAgICAgICAgICAgbWFya2VyX2M3MjI1MDZmZmVjZDQxN2NhMTYyOTdiMDhlZTU2OWU1LmJpbmRQb3B1cChwb3B1cF80Zjk1YjI3OWU4ZTY0MjgwYjEyZDI0YTNkNTZiYjFlOCk7CgogICAgICAgICAgICAKICAgICAgICAKICAgIAoKICAgICAgICAgICAgdmFyIG1hcmtlcl9kOWQ1NTQ3ZTViZjY0MmM1OTA2ZjI0MzljNWE3NmFjNyA9IEwubWFya2VyKAogICAgICAgICAgICAgICAgWzQ3LjU5ODQ0LC0xMjIuMzM1NjFdLAogICAgICAgICAgICAgICAgewogICAgICAgICAgICAgICAgICAgIGljb246IG5ldyBMLkljb24uRGVmYXVsdCgpCiAgICAgICAgICAgICAgICAgICAgfQogICAgICAgICAgICAgICAgKQogICAgICAgICAgICAgICAgLmFkZFRvKG1hcF8zYTNmM2E2YWIxNTQ0NDJjODNhMjRkNmU2MTE3NWVkMSk7CiAgICAgICAgICAgIAogICAgCiAgICAgICAgICAgIHZhciBwb3B1cF9jNzI4ZmFlY2NjNDk0Y2U0OTdkOWJiY2IyZGJiMDJhYyA9IEwucG9wdXAoe21heFdpZHRoOiAnMzAwJ30pOwoKICAgICAgICAgICAgCiAgICAgICAgICAgICAgICB2YXIgaHRtbF8xM2E3MzUxOGU1Mzg0ZDQ4OWVhNjVhNDMyMzg1ZGJhMyA9ICQoJzxkaXYgaWQ9Imh0bWxfMTNhNzM1MThlNTM4NGQ0ODllYTY1YTQzMjM4NWRiYTMiIHN0eWxlPSJ3aWR0aDogMTAwLjAlOyBoZWlnaHQ6IDEwMC4wJTsiPkJyaWRnZTogQWxhc2thbldheVZpYWR1Y3RfS2luZ1N0OyBNYXggVGVtcDogMzMuOTM5PC9kaXY+JylbMF07CiAgICAgICAgICAgICAgICBwb3B1cF9jNzI4ZmFlY2NjNDk0Y2U0OTdkOWJiY2IyZGJiMDJhYy5zZXRDb250ZW50KGh0bWxfMTNhNzM1MThlNTM4NGQ0ODllYTY1YTQzMjM4NWRiYTMpOwogICAgICAgICAgICAKCiAgICAgICAgICAgIG1hcmtlcl9kOWQ1NTQ3ZTViZjY0MmM1OTA2ZjI0MzljNWE3NmFjNy5iaW5kUG9wdXAocG9wdXBfYzcyOGZhZWNjYzQ5NGNlNDk3ZDliYmNiMmRiYjAyYWMpOwoKICAgICAgICAgICAgCiAgICAgICAgCiAgICAKCiAgICAgICAgICAgIHZhciBtYXJrZXJfZDllMGU1MmQzMzkwNDE0NzhiYTAzNjJhYmU4ZWVhYWUgPSBMLm1hcmtlcigKICAgICAgICAgICAgICAgIFs0Ny41NDc0MywtMTIyLjMxNDExXSwKICAgICAgICAgICAgICAgIHsKICAgICAgICAgICAgICAgICAgICBpY29uOiBuZXcgTC5JY29uLkRlZmF1bHQoKQogICAgICAgICAgICAgICAgICAgIH0KICAgICAgICAgICAgICAgICkKICAgICAgICAgICAgICAgIC5hZGRUbyhtYXBfM2EzZjNhNmFiMTU0NDQyYzgzYTI0ZDZlNjExNzVlZDEpOwogICAgICAgICAgICAKICAgIAogICAgICAgICAgICB2YXIgcG9wdXBfZjIyM2RjOGQxNzVhNDZkNThkM2IxZmQ2NjJhMDdiYTMgPSBMLnBvcHVwKHttYXhXaWR0aDogJzMwMCd9KTsKCiAgICAgICAgICAgIAogICAgICAgICAgICAgICAgdmFyIGh0bWxfYjI1ODI2ZDM0ZjdkNDhlYjg2YTQzODMzYTJmNDMwNGIgPSAkKCc8ZGl2IGlkPSJodG1sX2IyNTgyNmQzNGY3ZDQ4ZWI4NmE0MzgzM2EyZjQzMDRiIiBzdHlsZT0id2lkdGg6IDEwMC4wJTsgaGVpZ2h0OiAxMDAuMCU7Ij5CcmlkZ2U6IEFsYnJvUGxhY2VBaXJwb3J0V2F5OyBNYXggVGVtcDogMzguMzUyPC9kaXY+JylbMF07CiAgICAgICAgICAgICAgICBwb3B1cF9mMjIzZGM4ZDE3NWE0NmQ1OGQzYjFmZDY2MmEwN2JhMy5zZXRDb250ZW50KGh0bWxfYjI1ODI2ZDM0ZjdkNDhlYjg2YTQzODMzYTJmNDMwNGIpOwogICAgICAgICAgICAKCiAgICAgICAgICAgIG1hcmtlcl9kOWUwZTUyZDMzOTA0MTQ3OGJhMDM2MmFiZThlZWFhZS5iaW5kUG9wdXAocG9wdXBfZjIyM2RjOGQxNzVhNDZkNThkM2IxZmQ2NjJhMDdiYTMpOwoKICAgICAgICAgICAgCiAgICAgICAgCiAgICAKCiAgICAgICAgICAgIHZhciBtYXJrZXJfZmNmZGViMGRiOWUwNGI2MjhlYTg3YTBmZDJhYjliOGMgPSBMLm1hcmtlcigKICAgICAgICAgICAgICAgIFs0Ny42NDMxNywtMTIyLjM0NzI4XSwKICAgICAgICAgICAgICAgIHsKICAgICAgICAgICAgICAgICAgICBpY29uOiBuZXcgTC5JY29uLkRlZmF1bHQoKQogICAgICAgICAgICAgICAgICAgIH0KICAgICAgICAgICAgICAgICkKICAgICAgICAgICAgICAgIC5hZGRUbyhtYXBfM2EzZjNhNmFiMTU0NDQyYzgzYTI0ZDZlNjExNzVlZDEpOwogICAgICAgICAgICAKICAgIAogICAgICAgICAgICB2YXIgcG9wdXBfZTExOTdlYjNiZGQ1NGQ5N2FiNmQ5N2VlNDlhYWQ3YWEgPSBMLnBvcHVwKHttYXhXaWR0aDogJzMwMCd9KTsKCiAgICAgICAgICAgIAogICAgICAgICAgICAgICAgdmFyIGh0bWxfNTIxN2M1ZDA0ZGM0NDQyYTgzOGY3MTg3ZWZjMzU0YjAgPSAkKCc8ZGl2IGlkPSJodG1sXzUyMTdjNWQwNGRjNDQ0MmE4MzhmNzE4N2VmYzM1NGIwIiBzdHlsZT0id2lkdGg6IDEwMC4wJTsgaGVpZ2h0OiAxMDAuMCU7Ij5CcmlkZ2U6IEF1cm9yYUJyaWRnZTsgTWF4IFRlbXA6IDI5LjE2NTwvZGl2PicpWzBdOwogICAgICAgICAgICAgICAgcG9wdXBfZTExOTdlYjNiZGQ1NGQ5N2FiNmQ5N2VlNDlhYWQ3YWEuc2V0Q29udGVudChodG1sXzUyMTdjNWQwNGRjNDQ0MmE4MzhmNzE4N2VmYzM1NGIwKTsKICAgICAgICAgICAgCgogICAgICAgICAgICBtYXJrZXJfZmNmZGViMGRiOWUwNGI2MjhlYTg3YTBmZDJhYjliOGMuYmluZFBvcHVwKHBvcHVwX2UxMTk3ZWIzYmRkNTRkOTdhYjZkOTdlZTQ5YWFkN2FhKTsKCiAgICAgICAgICAgIAogICAgICAgIAogICAgCgogICAgICAgICAgICB2YXIgbWFya2VyXzcxMjRjM2ZkYmFiNzQyOGViM2ZjOWNkNDk3NmY0OWQ3ID0gTC5tYXJrZXIoCiAgICAgICAgICAgICAgICBbNDcuNTcxNjksLTEyMi4zNzA4N10sCiAgICAgICAgICAgICAgICB7CiAgICAgICAgICAgICAgICAgICAgaWNvbjogbmV3IEwuSWNvbi5EZWZhdWx0KCkKICAgICAgICAgICAgICAgICAgICB9CiAgICAgICAgICAgICAgICApCiAgICAgICAgICAgICAgICAuYWRkVG8obWFwXzNhM2YzYTZhYjE1NDQ0MmM4M2EyNGQ2ZTYxMTc1ZWQxKTsKICAgICAgICAgICAgCiAgICAKICAgICAgICAgICAgdmFyIHBvcHVwXzBjY2IxZWNjZjEwMzQ4ZTk5ODJkYTRiMzZhZTM0NGIxID0gTC5wb3B1cCh7bWF4V2lkdGg6ICczMDAnfSk7CgogICAgICAgICAgICAKICAgICAgICAgICAgICAgIHZhciBodG1sX2IxNzc5NTliOTU5MjRhZTg4NDg2MDhmMjY2NmQ2MDQ5ID0gJCgnPGRpdiBpZD0iaHRtbF9iMTc3OTU5Yjk1OTI0YWU4ODQ4NjA4ZjI2NjZkNjA0OSIgc3R5bGU9IndpZHRoOiAxMDAuMCU7IGhlaWdodDogMTAwLjAlOyI+QnJpZGdlOiBIYXJib3JBdmVVcHBlck5vcnRoQnJpZGdlOyBNYXggVGVtcDogMzUuMzIyPC9kaXY+JylbMF07CiAgICAgICAgICAgICAgICBwb3B1cF8wY2NiMWVjY2YxMDM0OGU5OTgyZGE0YjM2YWUzNDRiMS5zZXRDb250ZW50KGh0bWxfYjE3Nzk1OWI5NTkyNGFlODg0ODYwOGYyNjY2ZDYwNDkpOwogICAgICAgICAgICAKCiAgICAgICAgICAgIG1hcmtlcl83MTI0YzNmZGJhYjc0MjhlYjNmYzljZDQ5NzZmNDlkNy5iaW5kUG9wdXAocG9wdXBfMGNjYjFlY2NmMTAzNDhlOTk4MmRhNGIzNmFlMzQ0YjEpOwoKICAgICAgICAgICAgCiAgICAgICAgCiAgICAKCiAgICAgICAgICAgIHZhciBtYXJrZXJfNzhjZjUxNWM3NGFlNDI2YmExOGYxNmIxMGVmMTg2OGUgPSBMLm1hcmtlcigKICAgICAgICAgICAgICAgIFs0Ny41OTY1MywtMTIyLjMxNzNdLAogICAgICAgICAgICAgICAgewogICAgICAgICAgICAgICAgICAgIGljb246IG5ldyBMLkljb24uRGVmYXVsdCgpCiAgICAgICAgICAgICAgICAgICAgfQogICAgICAgICAgICAgICAgKQogICAgICAgICAgICAgICAgLmFkZFRvKG1hcF8zYTNmM2E2YWIxNTQ0NDJjODNhMjRkNmU2MTE3NWVkMSk7CiAgICAgICAgICAgIAogICAgCiAgICAgICAgICAgIHZhciBwb3B1cF8zZDRkZTU4MGQwZjg0ZjM4YTgyM2U0NDFkNjBiODRjMCA9IEwucG9wdXAoe21heFdpZHRoOiAnMzAwJ30pOwoKICAgICAgICAgICAgCiAgICAgICAgICAgICAgICB2YXIgaHRtbF8xYTlkODc2YTg2MTc0MGI3OTk2NDBiNTEwOGE2MWQ0ZSA9ICQoJzxkaXYgaWQ9Imh0bWxfMWE5ZDg3NmE4NjE3NDBiNzk5NjQwYjUxMDhhNjFkNGUiIHN0eWxlPSJ3aWR0aDogMTAwLjAlOyBoZWlnaHQ6IDEwMC4wJTsiPkJyaWRnZTogSm9zZVJpemFsQnJpZGdlTm9ydGg7IE1heCBUZW1wOiAzNi43NzQ8L2Rpdj4nKVswXTsKICAgICAgICAgICAgICAgIHBvcHVwXzNkNGRlNTgwZDBmODRmMzhhODIzZTQ0MWQ2MGI4NGMwLnNldENvbnRlbnQoaHRtbF8xYTlkODc2YTg2MTc0MGI3OTk2NDBiNTEwOGE2MWQ0ZSk7CiAgICAgICAgICAgIAoKICAgICAgICAgICAgbWFya2VyXzc4Y2Y1MTVjNzRhZTQyNmJhMThmMTZiMTBlZjE4NjhlLmJpbmRQb3B1cChwb3B1cF8zZDRkZTU4MGQwZjg0ZjM4YTgyM2U0NDFkNjBiODRjMCk7CgogICAgICAgICAgICAKICAgICAgICAKICAgIAoKICAgICAgICAgICAgdmFyIG1hcmtlcl9iZDU5YjUyM2Q5YWY0YjEyYmMyMWVmZDQ5MjlhYjEzYyA9IEwubWFya2VyKAogICAgICAgICAgICAgICAgWzQ3LjYzMzQ1LC0xMjIuMzg3MzRdLAogICAgICAgICAgICAgICAgewogICAgICAgICAgICAgICAgICAgIGljb246IG5ldyBMLkljb24uRGVmYXVsdCgpCiAgICAgICAgICAgICAgICAgICAgfQogICAgICAgICAgICAgICAgKQogICAgICAgICAgICAgICAgLmFkZFRvKG1hcF8zYTNmM2E2YWIxNTQ0NDJjODNhMjRkNmU2MTE3NWVkMSk7CiAgICAgICAgICAgIAogICAgCiAgICAgICAgICAgIHZhciBwb3B1cF80NjM1NTJkNGZjOWY0MzM0OWQ4ZWY4Nzk4YTUyOTNiNCA9IEwucG9wdXAoe21heFdpZHRoOiAnMzAwJ30pOwoKICAgICAgICAgICAgCiAgICAgICAgICAgICAgICB2YXIgaHRtbF83MTVlMmNkYjk1MTE0NjZmYjlhYWFlN2FlODJhMmFjNiA9ICQoJzxkaXYgaWQ9Imh0bWxfNzE1ZTJjZGI5NTExNDY2ZmI5YWFhZTdhZTgyYTJhYzYiIHN0eWxlPSJ3aWR0aDogMTAwLjAlOyBoZWlnaHQ6IDEwMC4wJTsiPkJyaWRnZTogTWFnbm9saWFCcmlkZ2U7IE1heCBUZW1wOiAzNS43Njc8L2Rpdj4nKVswXTsKICAgICAgICAgICAgICAgIHBvcHVwXzQ2MzU1MmQ0ZmM5ZjQzMzQ5ZDhlZjg3OThhNTI5M2I0LnNldENvbnRlbnQoaHRtbF83MTVlMmNkYjk1MTE0NjZmYjlhYWFlN2FlODJhMmFjNik7CiAgICAgICAgICAgIAoKICAgICAgICAgICAgbWFya2VyX2JkNTliNTIzZDlhZjRiMTJiYzIxZWZkNDkyOWFiMTNjLmJpbmRQb3B1cChwb3B1cF80NjM1NTJkNGZjOWY0MzM0OWQ4ZWY4Nzk4YTUyOTNiNCk7CgogICAgICAgICAgICAKICAgICAgICAKICAgIAoKICAgICAgICAgICAgdmFyIG1hcmtlcl85MTYxYzYwMjFjZWY0YmQxYTdhMmFiNDhmZmZkYjg1NiA9IEwubWFya2VyKAogICAgICAgICAgICAgICAgWzQ3LjY2MTI3LC0xMjIuMzAxOTNdLAogICAgICAgICAgICAgICAgewogICAgICAgICAgICAgICAgICAgIGljb246IG5ldyBMLkljb24uRGVmYXVsdCgpCiAgICAgICAgICAgICAgICAgICAgfQogICAgICAgICAgICAgICAgKQogICAgICAgICAgICAgICAgLmFkZFRvKG1hcF8zYTNmM2E2YWIxNTQ0NDJjODNhMjRkNmU2MTE3NWVkMSk7CiAgICAgICAgICAgIAogICAgCiAgICAgICAgICAgIHZhciBwb3B1cF8zNzRkYzRiMzdkMjk0YTQ2OTNiMWJlMjE0MDU3YTc1ZSA9IEwucG9wdXAoe21heFdpZHRoOiAnMzAwJ30pOwoKICAgICAgICAgICAgCiAgICAgICAgICAgICAgICB2YXIgaHRtbF83MmRlY2I1MjgxYmE0NjdlYTRiNzk3YTI2YzhmODllNyA9ICQoJzxkaXYgaWQ9Imh0bWxfNzJkZWNiNTI4MWJhNDY3ZWE0Yjc5N2EyNmM4Zjg5ZTciIHN0eWxlPSJ3aWR0aDogMTAwLjAlOyBoZWlnaHQ6IDEwMC4wJTsiPkJyaWRnZTogTkU0NVN0VmlhZHVjdDsgTWF4IFRlbXA6IDM1LjE4NjwvZGl2PicpWzBdOwogICAgICAgICAgICAgICAgcG9wdXBfMzc0ZGM0YjM3ZDI5NGE0NjkzYjFiZTIxNDA1N2E3NWUuc2V0Q29udGVudChodG1sXzcyZGVjYjUyODFiYTQ2N2VhNGI3OTdhMjZjOGY4OWU3KTsKICAgICAgICAgICAgCgogICAgICAgICAgICBtYXJrZXJfOTE2MWM2MDIxY2VmNGJkMWE3YTJhYjQ4ZmZmZGI4NTYuYmluZFBvcHVwKHBvcHVwXzM3NGRjNGIzN2QyOTRhNDY5M2IxYmUyMTQwNTdhNzVlKTsKCiAgICAgICAgICAgIAogICAgICAgIAogICAgCgogICAgICAgICAgICB2YXIgbWFya2VyXzQ2MjVjYWM2ODVhMDQ3N2E5MjQ3NDRkOWM2ZGViOWM4ID0gTC5tYXJrZXIoCiAgICAgICAgICAgICAgICBbNDcuNjkyMDksLTEyMi4zMTc2NV0sCiAgICAgICAgICAgICAgICB7CiAgICAgICAgICAgICAgICAgICAgaWNvbjogbmV3IEwuSWNvbi5EZWZhdWx0KCkKICAgICAgICAgICAgICAgICAgICB9CiAgICAgICAgICAgICAgICApCiAgICAgICAgICAgICAgICAuYWRkVG8obWFwXzNhM2YzYTZhYjE1NDQ0MmM4M2EyNGQ2ZTYxMTc1ZWQxKTsKICAgICAgICAgICAgCiAgICAKICAgICAgICAgICAgdmFyIHBvcHVwXzM2MjRhOWVlNDI5NDQzYWVhZTUyNDY5Y2M2ODMzMGQ5ID0gTC5wb3B1cCh7bWF4V2lkdGg6ICczMDAnfSk7CgogICAgICAgICAgICAKICAgICAgICAgICAgICAgIHZhciBodG1sX2Q3M2I3OGIzMGFkNzQ5MTQ5OTk3MTZiNzhkOGZiOTc1ID0gJCgnPGRpdiBpZD0iaHRtbF9kNzNiNzhiMzBhZDc0OTE0OTk5NzE2Yjc4ZDhmYjk3NSIgc3R5bGU9IndpZHRoOiAxMDAuMCU7IGhlaWdodDogMTAwLjAlOyI+QnJpZGdlOiBSb29zZXZlbHRXYXlfTkU4MHRoU3Q7IE1heCBUZW1wOiAzMS43MDg8L2Rpdj4nKVswXTsKICAgICAgICAgICAgICAgIHBvcHVwXzM2MjRhOWVlNDI5NDQzYWVhZTUyNDY5Y2M2ODMzMGQ5LnNldENvbnRlbnQoaHRtbF9kNzNiNzhiMzBhZDc0OTE0OTk5NzE2Yjc4ZDhmYjk3NSk7CiAgICAgICAgICAgIAoKICAgICAgICAgICAgbWFya2VyXzQ2MjVjYWM2ODVhMDQ3N2E5MjQ3NDRkOWM2ZGViOWM4LmJpbmRQb3B1cChwb3B1cF8zNjI0YTllZTQyOTQ0M2FlYWU1MjQ2OWNjNjgzMzBkOSk7CgogICAgICAgICAgICAKICAgICAgICAKICAgIAoKICAgICAgICAgICAgdmFyIG1hcmtlcl9hM2VhMWI1OTAzNmY0NzBjOTY2YTUwNmY1NGE3N2QxZCA9IEwubWFya2VyKAogICAgICAgICAgICAgICAgWzQ3LjU3MTM5LC0xMjIuMzUxNzRdLAogICAgICAgICAgICAgICAgewogICAgICAgICAgICAgICAgICAgIGljb246IG5ldyBMLkljb24uRGVmYXVsdCgpCiAgICAgICAgICAgICAgICAgICAgfQogICAgICAgICAgICAgICAgKQogICAgICAgICAgICAgICAgLmFkZFRvKG1hcF8zYTNmM2E2YWIxNTQ0NDJjODNhMjRkNmU2MTE3NWVkMSk7CiAgICAgICAgICAgIAogICAgCiAgICAgICAgICAgIHZhciBwb3B1cF9mZTRiMTFjNWNjNDc0Mjg0OWFmOGIxOWI0ZTIxMTI3NCA9IEwucG9wdXAoe21heFdpZHRoOiAnMzAwJ30pOwoKICAgICAgICAgICAgCiAgICAgICAgICAgICAgICB2YXIgaHRtbF9kYTM2ODJjNmIxYzk0ZjE2YjEyY2JmNTY3M2RlNzI3ZSA9ICQoJzxkaXYgaWQ9Imh0bWxfZGEzNjgyYzZiMWM5NGYxNmIxMmNiZjU2NzNkZTcyN2UiIHN0eWxlPSJ3aWR0aDogMTAwLjAlOyBoZWlnaHQ6IDEwMC4wJTsiPkJyaWRnZTogU3Bva2FuZVN3aW5nQnJpZGdlOyBNYXggVGVtcDogMzYuMTQ3PC9kaXY+JylbMF07CiAgICAgICAgICAgICAgICBwb3B1cF9mZTRiMTFjNWNjNDc0Mjg0OWFmOGIxOWI0ZTIxMTI3NC5zZXRDb250ZW50KGh0bWxfZGEzNjgyYzZiMWM5NGYxNmIxMmNiZjU2NzNkZTcyN2UpOwogICAgICAgICAgICAKCiAgICAgICAgICAgIG1hcmtlcl9hM2VhMWI1OTAzNmY0NzBjOTY2YTUwNmY1NGE3N2QxZC5iaW5kUG9wdXAocG9wdXBfZmU0YjExYzVjYzQ3NDI4NDlhZjhiMTliNGUyMTEyNzQpOwoKICAgICAgICAgICAgCiAgICAgICAgCjwvc2NyaXB0Pg==\" style=\"position:absolute;width:100%;height:100%;left:0;top:0;border:none !important;\" allowfullscreen webkitallowfullscreen mozallowfullscreen></iframe></div></div>"
      ],
      "text/plain": [
       "<folium.folium.Map at 0x249814a8>"
      ]
     },
     "execution_count": 281,
     "metadata": {},
     "output_type": "execute_result"
    }
   ],
   "source": [
    "import numpy as np\n",
    "import pandas as pd\n",
    "import folium\n",
    "import branca\n",
    "import matplotlib.pyplot as plt\n",
    "\n",
    "#Set coordinates\n",
    "SEATTLE_COORDINATES = (47.59844, -122.33561)\n",
    "\n",
    "#Empty map zoomed in on Seattle\n",
    "map = folium.Map(location=SEATTLE_COORDINATES, zoom_start=11.48, tiles='Stamen Terrain')\n",
    "\n",
    "#Create group of circle markers\n",
    "f = folium.map.FeatureGroup()\n",
    "\n",
    "lats=complete['Lat'].tolist()\n",
    "lngs=complete['Lon'].tolist()\n",
    "sizes=complete['Max Temperature'].tolist()\n",
    "popup=complete['Station Name'].tolist()\n",
    "\n",
    "#Colormap\n",
    "colors=np.asarray(sizes)\n",
    "cm = branca.colormap.LinearColormap(['green', 'yellow', 'red'], vmin=25, vmax=41)\n",
    "cm.caption = 'Road Surface Temperature [degrees Celsius]'\n",
    "map.add_child(cm)\n",
    "\n",
    "#Add color-coded circles\n",
    "for lat, lng, size, color in zip(lats, lngs, sizes, colors):\n",
    "    f.add_child(folium.features.CircleMarker(\n",
    "            [lat, lng],\n",
    "            radius=size,\n",
    "            color=None,\n",
    "            #popup=popup,\n",
    "            fill_color=cm(color)))  \n",
    "map.add_child(f)\n",
    "\n",
    "#Add markers with popups\n",
    "for each in complete[0:10].iterrows():\n",
    "    folium.Marker([each[1]['Lat'],each[1]['Lon']], \n",
    "                  popup='Bridge: '+each[1]['Station Name']+'; Max Temp: '+str(each[1]['Max Temperature'])).add_to(map)\n",
    "\n",
    "#Display\n",
    "map"
   ]
  },
  {
   "cell_type": "code",
   "execution_count": null,
   "metadata": {
    "collapsed": true
   },
   "outputs": [],
   "source": []
  }
 ],
 "metadata": {
  "kernelspec": {
   "display_name": "Python 2",
   "language": "python",
   "name": "python2"
  },
  "language_info": {
   "codemirror_mode": {
    "name": "ipython",
    "version": 2
   },
   "file_extension": ".py",
   "mimetype": "text/x-python",
   "name": "python",
   "nbconvert_exporter": "python",
   "pygments_lexer": "ipython2",
   "version": "2.7.13"
  }
 },
 "nbformat": 4,
 "nbformat_minor": 2
}
